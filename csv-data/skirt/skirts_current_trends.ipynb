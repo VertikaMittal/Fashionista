{
 "cells": [
  {
   "cell_type": "code",
   "execution_count": 2,
   "metadata": {},
   "outputs": [
    {
     "name": "stdout",
     "output_type": "stream",
     "text": [
      "Collecting nltk\n",
      "  Downloading nltk-3.7-py3-none-any.whl (1.5 MB)\n",
      "     ---------------------------------------- 1.5/1.5 MB 11.9 MB/s eta 0:00:00\n",
      "Requirement already satisfied: joblib in c:\\users\\arnav jain\\appdata\\local\\programs\\python\\python39\\lib\\site-packages (from nltk) (1.0.1)\n",
      "Collecting tqdm\n",
      "  Using cached tqdm-4.64.0-py2.py3-none-any.whl (78 kB)\n",
      "Requirement already satisfied: click in c:\\users\\arnav jain\\appdata\\local\\programs\\python\\python39\\lib\\site-packages (from nltk) (8.1.3)\n",
      "Collecting regex>=2021.8.3\n",
      "  Downloading regex-2022.7.24-cp39-cp39-win_amd64.whl (262 kB)\n",
      "     ------------------------------------- 262.8/262.8 kB 16.8 MB/s eta 0:00:00\n",
      "Requirement already satisfied: colorama in c:\\users\\arnav jain\\appdata\\roaming\\python\\python39\\site-packages (from click->nltk) (0.4.4)\n",
      "Installing collected packages: tqdm, regex, nltk\n",
      "Successfully installed nltk-3.7 regex-2022.7.24 tqdm-4.64.0\n",
      "\n",
      "[notice] A new release of pip available: 22.1.2 -> 22.2\n",
      "[notice] To update, run: python.exe -m pip install --upgrade pip\n",
      "Note: you may need to restart the kernel to use updated packages.\n"
     ]
    }
   ],
   "source": [
    "pip install nltk"
   ]
  },
  {
   "cell_type": "code",
   "execution_count": 3,
   "metadata": {},
   "outputs": [],
   "source": [
    "import pandas as pd\n",
    "from vaderSentiment.vaderSentiment import SentimentIntensityAnalyzer\n",
    "import nltk\n",
    "import re\n",
    "analyser = SentimentIntensityAnalyzer()"
   ]
  },
  {
   "cell_type": "code",
   "execution_count": 5,
   "metadata": {
    "scrolled": true
   },
   "outputs": [],
   "source": [
    "data=pd.read_csv(\"skirt-flipkart-final-final.csv\")\n",
    "data.head()\n",
    "data=data[['URL','ID','ITEM','STARS','NUMBER OF RATINGS','NUMBER OF REVIEWS', 'LIST OF REVIEWS']]"
   ]
  },
  {
   "cell_type": "code",
   "execution_count": 6,
   "metadata": {},
   "outputs": [
    {
     "data": {
      "text/html": [
       "<div>\n",
       "<style scoped>\n",
       "    .dataframe tbody tr th:only-of-type {\n",
       "        vertical-align: middle;\n",
       "    }\n",
       "\n",
       "    .dataframe tbody tr th {\n",
       "        vertical-align: top;\n",
       "    }\n",
       "\n",
       "    .dataframe thead th {\n",
       "        text-align: right;\n",
       "    }\n",
       "</style>\n",
       "<table border=\"1\" class=\"dataframe\">\n",
       "  <thead>\n",
       "    <tr style=\"text-align: right;\">\n",
       "      <th></th>\n",
       "      <th>URL</th>\n",
       "      <th>id</th>\n",
       "      <th>desc</th>\n",
       "      <th>stars</th>\n",
       "      <th>num_ratings</th>\n",
       "      <th>num_reviews</th>\n",
       "      <th>reviews</th>\n",
       "    </tr>\n",
       "  </thead>\n",
       "  <tbody>\n",
       "    <tr>\n",
       "      <th>0</th>\n",
       "      <td>http://flipkart.com/range-road-solid-women-a-l...</td>\n",
       "      <td>0</td>\n",
       "      <td>Women Solid A-line Multicolor Skirt</td>\n",
       "      <td>4.0</td>\n",
       "      <td>38</td>\n",
       "      <td>4</td>\n",
       "      <td>['Nice quality 👍 &amp; good colour 😍 thank you Fli...</td>\n",
       "    </tr>\n",
       "    <tr>\n",
       "      <th>1</th>\n",
       "      <td>http://flipkart.com/range-road-solid-women-a-l...</td>\n",
       "      <td>1</td>\n",
       "      <td>Women Solid A-line Multicolor Skirt</td>\n",
       "      <td>4.1</td>\n",
       "      <td>19</td>\n",
       "      <td>1</td>\n",
       "      <td>['Very Best Quality, Beautiful look wise..ladi...</td>\n",
       "    </tr>\n",
       "    <tr>\n",
       "      <th>2</th>\n",
       "      <td>http://flipkart.com/montrez-solid-women-a-line...</td>\n",
       "      <td>2</td>\n",
       "      <td>Women Solid A-line Light Blue Skirt</td>\n",
       "      <td>4.1</td>\n",
       "      <td>3874</td>\n",
       "      <td>422</td>\n",
       "      <td>['Super product. Deniem material,light blue in...</td>\n",
       "    </tr>\n",
       "    <tr>\n",
       "      <th>3</th>\n",
       "      <td>http://flipkart.com/montrez-solid-women-a-line...</td>\n",
       "      <td>3</td>\n",
       "      <td>Women Solid A-line Blue Skirt</td>\n",
       "      <td>4.1</td>\n",
       "      <td>3874</td>\n",
       "      <td>422</td>\n",
       "      <td>['Super product. Deniem material,light blue in...</td>\n",
       "    </tr>\n",
       "    <tr>\n",
       "      <th>4</th>\n",
       "      <td>http://flipkart.com/fkube-printed-women-pleate...</td>\n",
       "      <td>4</td>\n",
       "      <td>Women Printed Pleated Pink Skirt</td>\n",
       "      <td>4.4</td>\n",
       "      <td>1349</td>\n",
       "      <td>189</td>\n",
       "      <td>['Woow lovely osam😀', 'Good nice material', 'L...</td>\n",
       "    </tr>\n",
       "  </tbody>\n",
       "</table>\n",
       "</div>"
      ],
      "text/plain": [
       "                                                 URL  id  \\\n",
       "0  http://flipkart.com/range-road-solid-women-a-l...   0   \n",
       "1  http://flipkart.com/range-road-solid-women-a-l...   1   \n",
       "2  http://flipkart.com/montrez-solid-women-a-line...   2   \n",
       "3  http://flipkart.com/montrez-solid-women-a-line...   3   \n",
       "4  http://flipkart.com/fkube-printed-women-pleate...   4   \n",
       "\n",
       "                                  desc  stars  num_ratings  num_reviews  \\\n",
       "0  Women Solid A-line Multicolor Skirt    4.0           38            4   \n",
       "1  Women Solid A-line Multicolor Skirt    4.1           19            1   \n",
       "2  Women Solid A-line Light Blue Skirt    4.1         3874          422   \n",
       "3        Women Solid A-line Blue Skirt    4.1         3874          422   \n",
       "4     Women Printed Pleated Pink Skirt    4.4         1349          189   \n",
       "\n",
       "                                             reviews  \n",
       "0  ['Nice quality 👍 & good colour 😍 thank you Fli...  \n",
       "1  ['Very Best Quality, Beautiful look wise..ladi...  \n",
       "2  ['Super product. Deniem material,light blue in...  \n",
       "3  ['Super product. Deniem material,light blue in...  \n",
       "4  ['Woow lovely osam😀', 'Good nice material', 'L...  "
      ]
     },
     "execution_count": 6,
     "metadata": {},
     "output_type": "execute_result"
    }
   ],
   "source": [
    "data.rename(columns = {'ID':'id','ITEM':'desc', 'LIST OF REVIEWS':'reviews','NUMBER OF REVIEWS':'num_reviews','STARS':'stars','NUMBER OF RATINGS':'num_ratings'}, inplace=True)\n",
    "data.head()"
   ]
  },
  {
   "cell_type": "code",
   "execution_count": 7,
   "metadata": {},
   "outputs": [
    {
     "name": "stderr",
     "output_type": "stream",
     "text": [
      "C:\\Users\\ARNAVJ~1\\AppData\\Local\\Temp/ipykernel_17824/2430931611.py:2: FutureWarning: The default value of regex will change from True to False in a future version.\n",
      "  data.reviews = data.reviews.str.replace('\\n','').str.replace('[\\'!\"#$%&\\()*+,-./:;<=>?@[\\\\]^_`{|}~]','')\n"
     ]
    }
   ],
   "source": [
    "data.reviews = data.reviews.str.lower()\n",
    "data.reviews = data.reviews.str.replace('\\n','').str.replace('[\\'!\"#$%&\\()*+,-./:;<=>?@[\\\\]^_`{|}~]','')"
   ]
  },
  {
   "cell_type": "code",
   "execution_count": 8,
   "metadata": {},
   "outputs": [
    {
     "name": "stderr",
     "output_type": "stream",
     "text": [
      "C:\\Users\\ARNAVJ~1\\AppData\\Local\\Temp/ipykernel_17824/4164345182.py:9: SettingWithCopyWarning: \n",
      "A value is trying to be set on a copy of a slice from a DataFrame\n",
      "\n",
      "See the caveats in the documentation: https://pandas.pydata.org/pandas-docs/stable/user_guide/indexing.html#returning-a-view-versus-a-copy\n",
      "  data['vader_score'][ind] =sum_score\n"
     ]
    }
   ],
   "source": [
    "data['vader_score'] = 1.0\n",
    "for ind in data.index: \n",
    "    rev=data['reviews'][ind]\n",
    "    x = rev.split()\n",
    "    sum_score=0.0\n",
    "    for i in x:\n",
    "        score = analyser.polarity_scores(i)\n",
    "        sum_score=sum_score+score['compound']\n",
    "    data['vader_score'][ind] =sum_score"
   ]
  },
  {
   "cell_type": "code",
   "execution_count": 9,
   "metadata": {},
   "outputs": [],
   "source": [
    "total_star_givers = data['num_ratings'].sum()     \n",
    "total_review_givers = data['num_reviews'].sum()"
   ]
  },
  {
   "cell_type": "code",
   "execution_count": 10,
   "metadata": {},
   "outputs": [],
   "source": [
    "data['final_score'] = ((data['stars']*data['num_ratings'])/total_star_givers)+((data['vader_score']*data['num_reviews'])/total_review_givers)"
   ]
  },
  {
   "cell_type": "code",
   "execution_count": 11,
   "metadata": {},
   "outputs": [
    {
     "data": {
      "text/html": [
       "<div>\n",
       "<style scoped>\n",
       "    .dataframe tbody tr th:only-of-type {\n",
       "        vertical-align: middle;\n",
       "    }\n",
       "\n",
       "    .dataframe tbody tr th {\n",
       "        vertical-align: top;\n",
       "    }\n",
       "\n",
       "    .dataframe thead th {\n",
       "        text-align: right;\n",
       "    }\n",
       "</style>\n",
       "<table border=\"1\" class=\"dataframe\">\n",
       "  <thead>\n",
       "    <tr style=\"text-align: right;\">\n",
       "      <th></th>\n",
       "      <th>URL</th>\n",
       "      <th>id</th>\n",
       "      <th>desc</th>\n",
       "      <th>stars</th>\n",
       "      <th>num_ratings</th>\n",
       "      <th>num_reviews</th>\n",
       "      <th>reviews</th>\n",
       "      <th>vader_score</th>\n",
       "      <th>final_score</th>\n",
       "    </tr>\n",
       "  </thead>\n",
       "  <tbody>\n",
       "    <tr>\n",
       "      <th>0</th>\n",
       "      <td>http://flipkart.com/range-road-solid-women-a-l...</td>\n",
       "      <td>0</td>\n",
       "      <td>Women Solid A-line Multicolor Skirt</td>\n",
       "      <td>4.0</td>\n",
       "      <td>38</td>\n",
       "      <td>4</td>\n",
       "      <td>nice quality 👍  good colour 😍 thank you flipka...</td>\n",
       "      <td>2.5438</td>\n",
       "      <td>0.000910</td>\n",
       "    </tr>\n",
       "    <tr>\n",
       "      <th>1</th>\n",
       "      <td>http://flipkart.com/range-road-solid-women-a-l...</td>\n",
       "      <td>1</td>\n",
       "      <td>Women Solid A-line Multicolor Skirt</td>\n",
       "      <td>4.1</td>\n",
       "      <td>19</td>\n",
       "      <td>1</td>\n",
       "      <td>very best quality beautiful look wiseladies go...</td>\n",
       "      <td>1.2363</td>\n",
       "      <td>0.000334</td>\n",
       "    </tr>\n",
       "    <tr>\n",
       "      <th>2</th>\n",
       "      <td>http://flipkart.com/montrez-solid-women-a-line...</td>\n",
       "      <td>2</td>\n",
       "      <td>Women Solid A-line Light Blue Skirt</td>\n",
       "      <td>4.1</td>\n",
       "      <td>3874</td>\n",
       "      <td>422</td>\n",
       "      <td>super product deniem materiallight blue in clo...</td>\n",
       "      <td>4.3497</td>\n",
       "      <td>0.120878</td>\n",
       "    </tr>\n",
       "    <tr>\n",
       "      <th>3</th>\n",
       "      <td>http://flipkart.com/montrez-solid-women-a-line...</td>\n",
       "      <td>3</td>\n",
       "      <td>Women Solid A-line Blue Skirt</td>\n",
       "      <td>4.1</td>\n",
       "      <td>3874</td>\n",
       "      <td>422</td>\n",
       "      <td>super product deniem materiallight blue in clo...</td>\n",
       "      <td>4.3497</td>\n",
       "      <td>0.120878</td>\n",
       "    </tr>\n",
       "    <tr>\n",
       "      <th>4</th>\n",
       "      <td>http://flipkart.com/fkube-printed-women-pleate...</td>\n",
       "      <td>4</td>\n",
       "      <td>Women Printed Pleated Pink Skirt</td>\n",
       "      <td>4.4</td>\n",
       "      <td>1349</td>\n",
       "      <td>189</td>\n",
       "      <td>woow lovely osam😀 good nice material loved the...</td>\n",
       "      <td>2.8299</td>\n",
       "      <td>0.040132</td>\n",
       "    </tr>\n",
       "  </tbody>\n",
       "</table>\n",
       "</div>"
      ],
      "text/plain": [
       "                                                 URL  id  \\\n",
       "0  http://flipkart.com/range-road-solid-women-a-l...   0   \n",
       "1  http://flipkart.com/range-road-solid-women-a-l...   1   \n",
       "2  http://flipkart.com/montrez-solid-women-a-line...   2   \n",
       "3  http://flipkart.com/montrez-solid-women-a-line...   3   \n",
       "4  http://flipkart.com/fkube-printed-women-pleate...   4   \n",
       "\n",
       "                                  desc  stars  num_ratings  num_reviews  \\\n",
       "0  Women Solid A-line Multicolor Skirt    4.0           38            4   \n",
       "1  Women Solid A-line Multicolor Skirt    4.1           19            1   \n",
       "2  Women Solid A-line Light Blue Skirt    4.1         3874          422   \n",
       "3        Women Solid A-line Blue Skirt    4.1         3874          422   \n",
       "4     Women Printed Pleated Pink Skirt    4.4         1349          189   \n",
       "\n",
       "                                             reviews  vader_score  final_score  \n",
       "0  nice quality 👍  good colour 😍 thank you flipka...       2.5438     0.000910  \n",
       "1  very best quality beautiful look wiseladies go...       1.2363     0.000334  \n",
       "2  super product deniem materiallight blue in clo...       4.3497     0.120878  \n",
       "3  super product deniem materiallight blue in clo...       4.3497     0.120878  \n",
       "4  woow lovely osam😀 good nice material loved the...       2.8299     0.040132  "
      ]
     },
     "execution_count": 11,
     "metadata": {},
     "output_type": "execute_result"
    }
   ],
   "source": [
    "data.head()"
   ]
  },
  {
   "cell_type": "code",
   "execution_count": 12,
   "metadata": {},
   "outputs": [],
   "source": [
    "data.to_csv('skirts_csv_final.csv')"
   ]
  },
  {
   "cell_type": "code",
   "execution_count": 14,
   "metadata": {},
   "outputs": [
    {
     "name": "stderr",
     "output_type": "stream",
     "text": [
      "[nltk_data] Downloading package punkt to C:\\Users\\arnav\n",
      "[nltk_data]     jain\\AppData\\Roaming\\nltk_data...\n",
      "[nltk_data]   Unzipping tokenizers\\punkt.zip.\n"
     ]
    },
    {
     "name": "stdout",
     "output_type": "stream",
     "text": [
      "{'Solid Aline': [0, 1, 2, 3, 5, 7, 8, 10, 11, 16, 24, 25, 31, 52, 54, 62, 69, 77, 81, 98, 99, 104, 113, 128, 130, 131, 135, 139, 143, 147, 151, 172, 178, 179, 191, 193, 198, 199, 213, 215, 225, 243, 259, 261, 266, 276, 278, 281, 291, 300, 310, 321], 'Aline Multicolor': [0, 1, 7, 10, 11, 16, 24, 128, 131, 135, 139, 143, 147, 151, 193, 215, 288], 'Aline Light': [2, 278], 'Light Blue': [2, 76, 146, 166, 167, 278, 279], 'Aline Blue': [3, 5, 99, 178, 190, 198, 212, 259, 266, 283, 300], 'Printed Pleated': [4, 314], 'Pleated Pink': [4, 22, 50, 71, 157, 227], 'Solid Straight': [6, 9, 33, 76, 80, 89, 114, 152, 164, 166, 269, 299], 'Straight Dark': [6, 9, 33, 89, 145, 299], 'Dark Blue': [6, 9, 25, 33, 49, 62, 89, 94, 98, 107, 145, 161, 169, 180, 200, 209, 225, 246, 277, 281, 296, 299, 310, 313], 'Aline Black': [8, 31, 41, 54, 66, 77, 92, 104, 113, 130, 172, 183, 191, 204, 213, 276, 291, 304, 321], 'Solid Regular': [12, 30, 42, 74, 101, 108, 110, 112, 124, 134, 141, 142, 167, 238, 252, 257, 277, 287, 292, 297, 305], 'Regular Black': [12, 42, 74, 90, 108, 110, 295, 305, 318], 'Printed Wrap': [13, 21, 44, 46, 115, 245, 280], 'Wrap Around': [13, 21, 44, 46, 115, 245, 280], 'Around White': [13, 21, 46], 'Solid Pencil': [14, 15, 47, 58, 83, 107, 111, 150, 169, 174, 180, 181, 184, 195, 200, 201, 208, 209, 216, 222, 239, 240, 265, 284, 290, 307, 317, 320], 'Pencil Black': [14, 83, 111, 150, 174, 184, 195, 208, 222, 240, 265, 284, 290, 307, 320], 'Pencil Green': [15], 'Solid Pleated': [17, 18, 22, 23, 50, 63, 70, 78, 95, 136, 146, 158, 160, 170, 175, 196, 203, 217, 234, 244, 255, 274, 285, 296, 298, 315, 316, 319], 'Pleated Black': [17, 18, 255, 285, 306, 316, 319], 'Solid Asymetric': [19, 273], 'Asymetric Yellow': [19], 'Solid Flared': [20, 32, 36, 37, 43, 56, 57, 60, 61, 64, 65, 67, 68, 79, 87, 88, 93, 109, 120, 126, 132, 140, 144, 156, 168, 218, 219, 221, 223, 229, 232, 235, 236, 253, 254, 263, 268], 'Flared Black': [20, 61, 65, 68, 87, 88, 100, 121, 127, 188, 207, 224, 232, 268, 275], 'Pleated Green': [23, 78, 160, 170, 203, 234], 'Aline Dark': [25, 49, 62, 98, 225, 281, 310, 313], 'Floral Print': [26, 34, 35, 72, 86, 100, 122, 123, 129, 133, 157, 163, 165, 227, 233, 247, 249, 250, 258, 303], 'Print Aline': [26, 34, 183, 185, 204, 205], 'Aline Brown': [26, 69, 179, 199], 'Brown Orange': [26], 'Woven Gathered': [27, 38, 75, 106, 177, 210, 241, 267, 302], 'Gathered Light': [27, 38, 75, 106, 177, 210, 241, 267, 302], 'Light Green': [27, 38, 75, 106, 177, 210, 241, 267, 302], 'Solid Trumpet': [28, 91], 'Trumpet Black': [28], 'Checkered Skorts': [29], 'Skorts Blue': [29], 'Regular Maroon': [30, 149], 'Flared Grey': [32, 57], 'Aline Pink': [34, 171], 'Print Flared': [35, 72, 100, 123, 133, 163], 'Flared Blue': [35, 119, 125, 140, 156, 236, 254], 'Flared Green': [36, 67, 123, 133, 176, 197, 229, 253], 'Flared Maroon': [37, 56, 60, 93, 118, 120, 138, 168, 308], 'Graphic Print': [39], 'Print Straight': [39, 250, 303], 'Straight White': [39], 'Animal Print': [40, 94], 'Print Pencil': [40, 233], 'Pencil Multicolor': [40, 294], 'Printed Aline': [41, 92, 103, 171, 283, 288, 289, 313], 'Flared Beige': [43, 263], 'Around Black': [44, 245], 'Black White': [44, 84], 'Self Design': [45, 82, 85, 116, 117, 145, 154, 159, 173, 187, 192, 194, 214, 220, 251, 271, 295, 312], 'Design Gathered': [45, 85, 116, 154, 187, 220, 251, 271, 312], 'Gathered Green': [45, 85, 116, 154, 187, 220, 251, 271, 312], 'Pencil Blue': [47, 181, 192, 201, 214, 282], 'Solid Skorts': [48, 51, 59, 84, 148], 'Skorts Black': [48, 84, 148], 'Washed Aline': [49, 66, 190, 212, 304], 'Skorts Maroon': [51], 'Aline Grey': [52], 'Printed Asymetric': [53], 'Asymetric Black': [53], 'Solid Tulip': [55], 'Tulip Black': [55], 'Pencil Maroon': [58, 239], 'Skorts Multicolor': [59, 301], 'Pleated Yellow': [63, 217, 244], 'Flared Dark': [64, 246], 'Dark Green': [64, 91], 'Pleated Purple': [70, 122, 129], 'Checkered Pleated': [71], 'Flared Pink': [72, 132, 137, 144, 286, 309], 'Washed Straight': [73, 279], 'Straight Blue': [73, 80, 82, 114], 'Straight Light': [76, 166, 279], 'Flared Brown': [79], 'Aline White': [81, 186, 206, 289], 'Design Straight': [82, 117, 145, 159], 'Print Tiered': [86], 'Tiered Blue': [86], 'Printed Regular': [90, 149, 260, 318], 'Trumpet Dark': [91], 'Print Divided': [94], 'Divided Dark': [94], 'Pleated Red': [95, 274, 298], 'Applique Gathered': [96, 182, 202], 'Gathered White': [96, 189, 211], 'Washed Regular': [97, 226, 230], 'Regular Blue': [97, 142, 165, 226, 230, 252, 260, 287], 'Black Beige': [100], 'Regular Pink': [101, 141, 247, 292], 'Solid Gathered': [102, 189, 211, 262], 'Gathered Blue': [102], 'Aline Green': [103, 243], 'Embroidered Regular': [105, 161, 272], 'Regular Red': [105, 272], 'Pencil Dark': [107, 169, 180, 200, 209], 'Flared Red': [109, 126, 221, 235], 'Regular Yellow': [112, 238, 258], 'Around Maroon': [115], 'Straight Maroon': [117], 'Printed Flared': [118, 119, 121, 125, 127, 137, 138, 153, 155, 176, 188, 197, 207, 224, 246, 275, 286, 308], 'Print Pleated': [122, 129, 157, 227, 249], 'Purple Brown': [122, 129], 'Print Polka': [123, 133], 'Polka Print': [123, 133, 183, 185, 204, 205], 'Regular Green': [124, 134], 'Pleated Grey': [136], 'Pleated Light': [146], 'Straight Yellow': [152], 'Flared Multicolor': [153, 163], 'Flared Orange': [155, 173, 194, 248], 'Pleated Maroon': [158, 175, 196], 'Straight Black': [159, 164, 269, 270, 303], 'Regular Dark': [161, 277], 'Printed Cowl': [162], 'Cowl Brown': [162], 'Print Regular': [165, 247, 258], 'Regular Light': [167], 'Design Flared': [173, 194], 'Gathered Black': [182, 202], 'Black Blue': [182, 202], 'Aline Red': [185, 205], 'Embroidered Aline': [186, 206], 'Design Pencil': [192, 214], 'Blue Black': [192, 214], 'Black Pink': [192, 214], 'Pencil White': [216, 233, 242, 317], 'Embellished Solid': [218], 'Flared White': [218, 219, 223, 228], 'Embroidered Flared': [228, 309], 'Washed Pleated': [231, 306], 'Pleated Blue': [231], 'White Pink': [233], 'Pink Black': [233], 'Printed Straight': [237, 270], 'Straight Purple': [237], 'Purple Pink': [237], 'Striped Pencil': [242], 'White Black': [242], 'Striped Flared': [248], 'Pleated Brown': [249], 'Straight Red': [250], 'Checkered Tube': [256], 'Tube Black': [256], 'Regular Grey': [257], 'Aline Maroon': [261, 264], 'Gathered Pink': [262], 'Striped Aline': [264], 'Asymetric Pink': [273], 'Around Multicolor': [280], 'Washed Pencil': [282], 'Solid Layered': [293], 'Layered White': [293], 'Printed Pencil': [294], 'Design Regular': [295], 'Pleated Dark': [296], 'Regular White': [297], 'Striped Skorts': [301], 'Woven Flared': [311], 'Flared Purple': [311], 'Pleated White': [314], 'Pleated Gold': [315]}\n"
     ]
    }
   ],
   "source": [
    "import nltk\n",
    "import re\n",
    "nltk.download('punkt')\n",
    "\n",
    "dict_bigram={}\n",
    "item_bigram={}\n",
    "# word_data = \"The best performance can bring in sky high success.\"\n",
    "for ind in data.index:\n",
    "    d=data['desc'][ind][6:-5]\n",
    "    d= re.sub(r'[^\\w\\s]', '', d) \n",
    "    nltk_tokens = nltk.word_tokenize(d)\n",
    "    arr=list(nltk.bigrams(nltk_tokens))\n",
    "    for i in arr:\n",
    "        if i in dict_bigram:\n",
    "            dict_bigram[i]=dict_bigram[i]+1\n",
    "            item_bigram[\" \".join(i)].append(ind)\n",
    "        else:\n",
    "            dict_bigram[i]=1\n",
    "            item_bigram[\" \".join(i)]=[]\n",
    "            item_bigram[\" \".join(i)].append(ind)\n",
    "print(item_bigram) \n"
   ]
  },
  {
   "cell_type": "code",
   "execution_count": 15,
   "metadata": {},
   "outputs": [
    {
     "name": "stdout",
     "output_type": "stream",
     "text": [
      "[('Solid', 'Aline'), ('Solid', 'Flared'), ('Solid', 'Pencil'), ('Solid', 'Pleated'), ('Dark', 'Blue'), ('Solid', 'Regular'), ('Floral', 'Print'), ('Aline', 'Black'), ('Self', 'Design'), ('Printed', 'Flared'), ('Aline', 'Multicolor'), ('Pencil', 'Black'), ('Flared', 'Black'), ('Solid', 'Straight'), ('Aline', 'Blue'), ('Regular', 'Black'), ('Woven', 'Gathered'), ('Gathered', 'Light'), ('Light', 'Green'), ('Flared', 'Maroon'), ('Design', 'Gathered'), ('Gathered', 'Green'), ('Aline', 'Dark'), ('Flared', 'Green'), ('Printed', 'Aline'), ('Regular', 'Blue'), ('Light', 'Blue'), ('Printed', 'Wrap'), ('Wrap', 'Around'), ('Pleated', 'Black'), ('Flared', 'Blue'), ('Pleated', 'Pink'), ('Straight', 'Dark'), ('Pleated', 'Green'), ('Print', 'Aline'), ('Print', 'Flared'), ('Pencil', 'Blue'), ('Flared', 'Pink'), ('Polka', 'Print'), ('Solid', 'Skorts'), ('Washed', 'Aline'), ('Pencil', 'Dark'), ('Print', 'Pleated'), ('Straight', 'Black'), ('Aline', 'Brown'), ('Straight', 'Blue'), ('Aline', 'White'), ('Design', 'Straight'), ('Printed', 'Regular'), ('Regular', 'Pink'), ('Solid', 'Gathered'), ('Flared', 'Red'), ('Flared', 'Orange'), ('Pencil', 'White'), ('Flared', 'White'), ('Around', 'White'), ('Print', 'Straight'), ('Skorts', 'Black'), ('Pleated', 'Yellow'), ('Pleated', 'Purple'), ('Straight', 'Light'), ('Pleated', 'Red'), ('Applique', 'Gathered'), ('Gathered', 'White'), ('Washed', 'Regular'), ('Embroidered', 'Regular'), ('Regular', 'Yellow'), ('Pleated', 'Maroon'), ('Print', 'Regular'), ('Aline', 'Light'), ('Printed', 'Pleated'), ('Solid', 'Asymetric'), ('Solid', 'Trumpet'), ('Regular', 'Maroon'), ('Flared', 'Grey'), ('Aline', 'Pink'), ('Animal', 'Print'), ('Print', 'Pencil'), ('Pencil', 'Multicolor'), ('Flared', 'Beige'), ('Around', 'Black'), ('Black', 'White'), ('Pencil', 'Maroon'), ('Skorts', 'Multicolor'), ('Flared', 'Dark'), ('Dark', 'Green'), ('Washed', 'Straight'), ('Aline', 'Green'), ('Regular', 'Red'), ('Purple', 'Brown'), ('Print', 'Polka'), ('Regular', 'Green'), ('Flared', 'Multicolor'), ('Regular', 'Dark'), ('Design', 'Flared'), ('Gathered', 'Black'), ('Black', 'Blue'), ('Aline', 'Red'), ('Embroidered', 'Aline'), ('Design', 'Pencil'), ('Blue', 'Black'), ('Black', 'Pink'), ('Embroidered', 'Flared'), ('Washed', 'Pleated'), ('Printed', 'Straight'), ('Aline', 'Maroon'), ('Pencil', 'Green'), ('Asymetric', 'Yellow'), ('Brown', 'Orange'), ('Trumpet', 'Black'), ('Checkered', 'Skorts'), ('Skorts', 'Blue'), ('Graphic', 'Print'), ('Straight', 'White'), ('Skorts', 'Maroon'), ('Aline', 'Grey'), ('Printed', 'Asymetric'), ('Asymetric', 'Black'), ('Solid', 'Tulip'), ('Tulip', 'Black'), ('Checkered', 'Pleated'), ('Flared', 'Brown'), ('Print', 'Tiered'), ('Tiered', 'Blue'), ('Trumpet', 'Dark'), ('Print', 'Divided'), ('Divided', 'Dark'), ('Black', 'Beige'), ('Gathered', 'Blue'), ('Around', 'Maroon'), ('Straight', 'Maroon'), ('Pleated', 'Grey'), ('Pleated', 'Light'), ('Straight', 'Yellow'), ('Printed', 'Cowl'), ('Cowl', 'Brown'), ('Regular', 'Light'), ('Embellished', 'Solid'), ('Pleated', 'Blue'), ('White', 'Pink'), ('Pink', 'Black'), ('Straight', 'Purple'), ('Purple', 'Pink'), ('Striped', 'Pencil'), ('White', 'Black'), ('Striped', 'Flared'), ('Pleated', 'Brown'), ('Straight', 'Red'), ('Checkered', 'Tube'), ('Tube', 'Black'), ('Regular', 'Grey'), ('Gathered', 'Pink'), ('Striped', 'Aline'), ('Asymetric', 'Pink'), ('Around', 'Multicolor'), ('Washed', 'Pencil'), ('Solid', 'Layered'), ('Layered', 'White'), ('Printed', 'Pencil'), ('Design', 'Regular'), ('Pleated', 'Dark'), ('Regular', 'White'), ('Striped', 'Skorts'), ('Woven', 'Flared'), ('Flared', 'Purple'), ('Pleated', 'White'), ('Pleated', 'Gold')]\n"
     ]
    }
   ],
   "source": [
    "dict_bigram_sorted= sorted(dict_bigram, key=dict_bigram.get, reverse=True)\n",
    "print(dict_bigram_sorted)"
   ]
  },
  {
   "cell_type": "code",
   "execution_count": 16,
   "metadata": {},
   "outputs": [
    {
     "name": "stdout",
     "output_type": "stream",
     "text": [
      "[('Solid', 'Aline'), ('Solid', 'Flared'), ('Solid', 'Pencil'), ('Solid', 'Pleated'), ('Dark', 'Blue'), ('Striped', 'Skorts'), ('Woven', 'Flared'), ('Flared', 'Purple'), ('Pleated', 'White'), ('Pleated', 'Gold')]\n"
     ]
    }
   ],
   "source": [
    "row=dict_bigram_sorted[0:5]+dict_bigram_sorted[-5:]\n",
    "print(row)"
   ]
  },
  {
   "cell_type": "code",
   "execution_count": 17,
   "metadata": {},
   "outputs": [
    {
     "name": "stdout",
     "output_type": "stream",
     "text": [
      "[['Solid Aline'], ['Solid Flared'], ['Solid Pencil'], ['Solid Pleated'], ['Dark Blue'], ['Striped Skorts'], ['Woven Flared'], ['Flared Purple'], ['Pleated White'], ['Pleated Gold']]\n"
     ]
    }
   ],
   "source": [
    "res = [] \n",
    "for el in row: \n",
    "    sub=\" \".join(el)\n",
    "    res.append(list(sub.split(\"*\"))) \n",
    "print(res)"
   ]
  },
  {
   "cell_type": "code",
   "execution_count": 18,
   "metadata": {
    "scrolled": true
   },
   "outputs": [
    {
     "name": "stdout",
     "output_type": "stream",
     "text": [
      "[['Solid Aline', 0, 1, 2, 3, 5, 7, 8, 10, 11, 16, 24, 25, 31, 52, 54, 62, 69, 77, 81, 98, 99, 104, 113, 128, 130, 131, 135, 139, 143, 147, 151, 172, 178, 179, 191, 193, 198, 199, 213, 215, 225, 243, 259, 261, 266, 276, 278, 281, 291, 300, 310, 321], ['Solid Flared', 20, 32, 36, 37, 43, 56, 57, 60, 61, 64, 65, 67, 68, 79, 87, 88, 93, 109, 120, 126, 132, 140, 144, 156, 168, 218, 219, 221, 223, 229, 232, 235, 236, 253, 254, 263, 268], ['Solid Pencil', 14, 15, 47, 58, 83, 107, 111, 150, 169, 174, 180, 181, 184, 195, 200, 201, 208, 209, 216, 222, 239, 240, 265, 284, 290, 307, 317, 320], ['Solid Pleated', 17, 18, 22, 23, 50, 63, 70, 78, 95, 136, 146, 158, 160, 170, 175, 196, 203, 217, 234, 244, 255, 274, 285, 296, 298, 315, 316, 319], ['Dark Blue', 6, 9, 25, 33, 49, 62, 89, 94, 98, 107, 145, 161, 169, 180, 200, 209, 225, 246, 277, 281, 296, 299, 310, 313], ['Striped Skorts', 301], ['Woven Flared', 311], ['Flared Purple', 311], ['Pleated White', 314], ['Pleated Gold', 315]]\n"
     ]
    }
   ],
   "source": [
    "import csv\n",
    "with open('skirt_top_bottom.csv', 'w', newline='') as file:\n",
    "    res = [] \n",
    "    for el in row: \n",
    "        sub=\" \".join(el)\n",
    "        res.append(list(sub.split(\"*\"))) \n",
    "    for i in range(len(res)):\n",
    "        res[i]=res[i]+item_bigram[res[i][0]]\n",
    "    print(res)\n",
    "    writer = csv.writer(file)\n",
    "    writer.writerows(res)"
   ]
  },
  {
   "cell_type": "code",
   "execution_count": null,
   "metadata": {},
   "outputs": [],
   "source": []
  }
 ],
 "metadata": {
  "kernelspec": {
   "display_name": "Python 3 (ipykernel)",
   "language": "python",
   "name": "python3"
  },
  "language_info": {
   "codemirror_mode": {
    "name": "ipython",
    "version": 3
   },
   "file_extension": ".py",
   "mimetype": "text/x-python",
   "name": "python",
   "nbconvert_exporter": "python",
   "pygments_lexer": "ipython3",
   "version": "3.9.5"
  }
 },
 "nbformat": 4,
 "nbformat_minor": 2
}
