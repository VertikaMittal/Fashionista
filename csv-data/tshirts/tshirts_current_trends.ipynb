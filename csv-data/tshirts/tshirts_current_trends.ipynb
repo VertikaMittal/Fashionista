{
 "cells": [
  {
   "cell_type": "code",
   "execution_count": 2,
   "id": "152dabbd",
   "metadata": {},
   "outputs": [
    {
     "name": "stdout",
     "output_type": "stream",
     "text": [
      "Collecting vaderSentiment\n",
      "  Downloading vaderSentiment-3.3.2-py2.py3-none-any.whl (125 kB)\n",
      "     -------------------------------------- 126.0/126.0 kB 3.7 MB/s eta 0:00:00\n",
      "Requirement already satisfied: requests in c:\\users\\arnav jain\\appdata\\local\\programs\\python\\python39\\lib\\site-packages (from vaderSentiment) (2.26.0)\n",
      "Requirement already satisfied: charset-normalizer~=2.0.0 in c:\\users\\arnav jain\\appdata\\local\\programs\\python\\python39\\lib\\site-packages (from requests->vaderSentiment) (2.0.9)\n",
      "Requirement already satisfied: idna<4,>=2.5 in c:\\users\\arnav jain\\appdata\\local\\programs\\python\\python39\\lib\\site-packages (from requests->vaderSentiment) (3.3)\n",
      "Requirement already satisfied: urllib3<1.27,>=1.21.1 in c:\\users\\arnav jain\\appdata\\local\\programs\\python\\python39\\lib\\site-packages (from requests->vaderSentiment) (1.26.7)\n",
      "Requirement already satisfied: certifi>=2017.4.17 in c:\\users\\arnav jain\\appdata\\local\\programs\\python\\python39\\lib\\site-packages (from requests->vaderSentiment) (2021.10.8)\n",
      "Installing collected packages: vaderSentiment\n",
      "Successfully installed vaderSentiment-3.3.2\n",
      "\n",
      "[notice] A new release of pip available: 22.1.2 -> 22.2\n",
      "[notice] To update, run: python.exe -m pip install --upgrade pip\n"
     ]
    }
   ],
   "source": [
    "!pip install vaderSentiment"
   ]
  },
  {
   "cell_type": "code",
   "execution_count": 3,
   "id": "8aad7f8f",
   "metadata": {},
   "outputs": [],
   "source": [
    "import pandas as pd\n",
    "from vaderSentiment.vaderSentiment import SentimentIntensityAnalyzer\n",
    "import csv\n",
    "import re\n",
    "analyser = SentimentIntensityAnalyzer()"
   ]
  },
  {
   "cell_type": "code",
   "execution_count": 5,
   "id": "bc472afa",
   "metadata": {},
   "outputs": [],
   "source": [
    "data=pd.read_csv(\"tshirt-flipkart-final-final.csv\")\n",
    "data.head()\n",
    "data=data[['URL','ID','ITEM','STARS','NUMBER OF RATINGS','NUMBER OF REVIEWS', 'LIST OF REVIEWS']]\n"
   ]
  },
  {
   "cell_type": "code",
   "execution_count": 6,
   "id": "8282fdd9",
   "metadata": {},
   "outputs": [
    {
     "data": {
      "text/html": [
       "<div>\n",
       "<style scoped>\n",
       "    .dataframe tbody tr th:only-of-type {\n",
       "        vertical-align: middle;\n",
       "    }\n",
       "\n",
       "    .dataframe tbody tr th {\n",
       "        vertical-align: top;\n",
       "    }\n",
       "\n",
       "    .dataframe thead th {\n",
       "        text-align: right;\n",
       "    }\n",
       "</style>\n",
       "<table border=\"1\" class=\"dataframe\">\n",
       "  <thead>\n",
       "    <tr style=\"text-align: right;\">\n",
       "      <th></th>\n",
       "      <th>URL</th>\n",
       "      <th>id</th>\n",
       "      <th>desc</th>\n",
       "      <th>stars</th>\n",
       "      <th>num_ratings</th>\n",
       "      <th>num_reviews</th>\n",
       "      <th>reviews</th>\n",
       "    </tr>\n",
       "  </thead>\n",
       "  <tbody>\n",
       "    <tr>\n",
       "      <th>0</th>\n",
       "      <td>http://flipkart.com/ftx-solid-men-round-neck-m...</td>\n",
       "      <td>0</td>\n",
       "      <td>Pack of 4 Solid Men Round Neck Multicolor T-Shirt</td>\n",
       "      <td>4.2</td>\n",
       "      <td>1103</td>\n",
       "      <td>147</td>\n",
       "      <td>['Product quantity is excellent', 'Nyc look th...</td>\n",
       "    </tr>\n",
       "    <tr>\n",
       "      <th>1</th>\n",
       "      <td>http://flipkart.com/louis-philippe-sport-solid...</td>\n",
       "      <td>1</td>\n",
       "      <td>Solid Men Polo Neck Light Blue T-Shirt</td>\n",
       "      <td>4.1</td>\n",
       "      <td>14974</td>\n",
       "      <td>1286</td>\n",
       "      <td>['The colour is just an awesome combination of...</td>\n",
       "    </tr>\n",
       "    <tr>\n",
       "      <th>2</th>\n",
       "      <td>http://flipkart.com/eyebogler-striped-men-polo...</td>\n",
       "      <td>2</td>\n",
       "      <td>Striped Men Polo Neck White, Blue, Yellow T-Shirt</td>\n",
       "      <td>4.1</td>\n",
       "      <td>15561</td>\n",
       "      <td>1650</td>\n",
       "      <td>['Good exactly same as in the catalog. Fabric ...</td>\n",
       "    </tr>\n",
       "    <tr>\n",
       "      <th>3</th>\n",
       "      <td>http://flipkart.com/eyebogler-color-block-men-...</td>\n",
       "      <td>3</td>\n",
       "      <td>Color Block Men Round Neck Grey T-Shirt</td>\n",
       "      <td>3.9</td>\n",
       "      <td>88178</td>\n",
       "      <td>7932</td>\n",
       "      <td>['Good product', 'Nice t-shirt... 👌', 'Awsome ...</td>\n",
       "    </tr>\n",
       "    <tr>\n",
       "      <th>4</th>\n",
       "      <td>http://flipkart.com/tripr-printed-men-round-ne...</td>\n",
       "      <td>4</td>\n",
       "      <td>Printed Men Round Neck Pink T-Shirt</td>\n",
       "      <td>3.8</td>\n",
       "      <td>15858</td>\n",
       "      <td>1238</td>\n",
       "      <td>['Perfect 🥰 💞', 'Osm color &amp; design but improv...</td>\n",
       "    </tr>\n",
       "  </tbody>\n",
       "</table>\n",
       "</div>"
      ],
      "text/plain": [
       "                                                 URL  id  \\\n",
       "0  http://flipkart.com/ftx-solid-men-round-neck-m...   0   \n",
       "1  http://flipkart.com/louis-philippe-sport-solid...   1   \n",
       "2  http://flipkart.com/eyebogler-striped-men-polo...   2   \n",
       "3  http://flipkart.com/eyebogler-color-block-men-...   3   \n",
       "4  http://flipkart.com/tripr-printed-men-round-ne...   4   \n",
       "\n",
       "                                                desc  stars  num_ratings  \\\n",
       "0  Pack of 4 Solid Men Round Neck Multicolor T-Shirt    4.2         1103   \n",
       "1             Solid Men Polo Neck Light Blue T-Shirt    4.1        14974   \n",
       "2  Striped Men Polo Neck White, Blue, Yellow T-Shirt    4.1        15561   \n",
       "3            Color Block Men Round Neck Grey T-Shirt    3.9        88178   \n",
       "4                Printed Men Round Neck Pink T-Shirt    3.8        15858   \n",
       "\n",
       "   num_reviews                                            reviews  \n",
       "0          147  ['Product quantity is excellent', 'Nyc look th...  \n",
       "1         1286  ['The colour is just an awesome combination of...  \n",
       "2         1650  ['Good exactly same as in the catalog. Fabric ...  \n",
       "3         7932  ['Good product', 'Nice t-shirt... 👌', 'Awsome ...  \n",
       "4         1238  ['Perfect 🥰 💞', 'Osm color & design but improv...  "
      ]
     },
     "execution_count": 6,
     "metadata": {},
     "output_type": "execute_result"
    }
   ],
   "source": [
    "data.rename(columns = {'ID':'id','ITEM':'desc', 'LIST OF REVIEWS':'reviews','NUMBER OF REVIEWS':'num_reviews','STARS':'stars','NUMBER OF RATINGS':'num_ratings'}, inplace=True)\n",
    "data.head()\n"
   ]
  },
  {
   "cell_type": "code",
   "execution_count": 7,
   "id": "dbec4909",
   "metadata": {},
   "outputs": [
    {
     "name": "stderr",
     "output_type": "stream",
     "text": [
      "C:\\Users\\ARNAVJ~1\\AppData\\Local\\Temp/ipykernel_15048/2131956584.py:2: FutureWarning: The default value of regex will change from True to False in a future version.\n",
      "  data.reviews = data.reviews.str.replace('\\n','').str.replace('[\\'!\"#$%&\\()*+,-./:;<=>?@[\\\\]^_`{|}~]','')\n"
     ]
    }
   ],
   "source": [
    "data.reviews = data.reviews.str.lower()\n",
    "data.reviews = data.reviews.str.replace('\\n','').str.replace('[\\'!\"#$%&\\()*+,-./:;<=>?@[\\\\]^_`{|}~]','')\n"
   ]
  },
  {
   "cell_type": "code",
   "execution_count": 8,
   "id": "c3345b58",
   "metadata": {},
   "outputs": [
    {
     "name": "stderr",
     "output_type": "stream",
     "text": [
      "C:\\Users\\ARNAVJ~1\\AppData\\Local\\Temp/ipykernel_15048/2037979432.py:10: SettingWithCopyWarning: \n",
      "A value is trying to be set on a copy of a slice from a DataFrame\n",
      "\n",
      "See the caveats in the documentation: https://pandas.pydata.org/pandas-docs/stable/user_guide/indexing.html#returning-a-view-versus-a-copy\n",
      "  data['vader_score'][ind] =sum_score\n"
     ]
    }
   ],
   "source": [
    "data['vader_score'] = 1.0\n",
    "for ind in data.index: \n",
    "    rev=data['reviews'][ind]\n",
    "    x = rev.split()\n",
    "#     print(x)\n",
    "    sum_score=0.0\n",
    "    for i in x:\n",
    "        score = analyser.polarity_scores(i)\n",
    "        sum_score=sum_score+score['compound']\n",
    "    data['vader_score'][ind] =sum_score"
   ]
  },
  {
   "cell_type": "code",
   "execution_count": 9,
   "id": "892fb35a",
   "metadata": {},
   "outputs": [
    {
     "name": "stdout",
     "output_type": "stream",
     "text": [
      "6408214\n",
      "683250\n"
     ]
    }
   ],
   "source": [
    "total_star_givers = data['num_ratings'].sum()     \n",
    "total_review_givers = data['num_reviews'].sum()\n",
    "print(total_star_givers)\n",
    "print(total_review_givers)\n"
   ]
  },
  {
   "cell_type": "code",
   "execution_count": 10,
   "id": "b21eca51",
   "metadata": {},
   "outputs": [],
   "source": [
    "data['final_score'] = ((data['stars']*data['num_ratings'])/total_star_givers)+((data['vader_score']*data['num_reviews'])/total_review_givers)\n"
   ]
  },
  {
   "cell_type": "code",
   "execution_count": 11,
   "id": "2de217bf",
   "metadata": {},
   "outputs": [
    {
     "data": {
      "text/html": [
       "<div>\n",
       "<style scoped>\n",
       "    .dataframe tbody tr th:only-of-type {\n",
       "        vertical-align: middle;\n",
       "    }\n",
       "\n",
       "    .dataframe tbody tr th {\n",
       "        vertical-align: top;\n",
       "    }\n",
       "\n",
       "    .dataframe thead th {\n",
       "        text-align: right;\n",
       "    }\n",
       "</style>\n",
       "<table border=\"1\" class=\"dataframe\">\n",
       "  <thead>\n",
       "    <tr style=\"text-align: right;\">\n",
       "      <th></th>\n",
       "      <th>URL</th>\n",
       "      <th>id</th>\n",
       "      <th>desc</th>\n",
       "      <th>stars</th>\n",
       "      <th>num_ratings</th>\n",
       "      <th>num_reviews</th>\n",
       "      <th>reviews</th>\n",
       "      <th>vader_score</th>\n",
       "      <th>final_score</th>\n",
       "    </tr>\n",
       "  </thead>\n",
       "  <tbody>\n",
       "    <tr>\n",
       "      <th>0</th>\n",
       "      <td>http://flipkart.com/ftx-solid-men-round-neck-m...</td>\n",
       "      <td>0</td>\n",
       "      <td>Pack of 4 Solid Men Round Neck Multicolor T-Shirt</td>\n",
       "      <td>4.2</td>\n",
       "      <td>1103</td>\n",
       "      <td>147</td>\n",
       "      <td>product quantity is excellent nyc look this cl...</td>\n",
       "      <td>1.1968</td>\n",
       "      <td>0.000980</td>\n",
       "    </tr>\n",
       "    <tr>\n",
       "      <th>1</th>\n",
       "      <td>http://flipkart.com/louis-philippe-sport-solid...</td>\n",
       "      <td>1</td>\n",
       "      <td>Solid Men Polo Neck Light Blue T-Shirt</td>\n",
       "      <td>4.1</td>\n",
       "      <td>14974</td>\n",
       "      <td>1286</td>\n",
       "      <td>the colour is just an awesome combination of m...</td>\n",
       "      <td>3.0547</td>\n",
       "      <td>0.015330</td>\n",
       "    </tr>\n",
       "    <tr>\n",
       "      <th>2</th>\n",
       "      <td>http://flipkart.com/eyebogler-striped-men-polo...</td>\n",
       "      <td>2</td>\n",
       "      <td>Striped Men Polo Neck White, Blue, Yellow T-Shirt</td>\n",
       "      <td>4.1</td>\n",
       "      <td>15561</td>\n",
       "      <td>1650</td>\n",
       "      <td>good exactly same as in the catalog fabric sof...</td>\n",
       "      <td>3.5025</td>\n",
       "      <td>0.018414</td>\n",
       "    </tr>\n",
       "    <tr>\n",
       "      <th>3</th>\n",
       "      <td>http://flipkart.com/eyebogler-color-block-men-...</td>\n",
       "      <td>3</td>\n",
       "      <td>Color Block Men Round Neck Grey T-Shirt</td>\n",
       "      <td>3.9</td>\n",
       "      <td>88178</td>\n",
       "      <td>7932</td>\n",
       "      <td>good product nice tshirt 👌 awsome shirtthanks ...</td>\n",
       "      <td>1.5916</td>\n",
       "      <td>0.072142</td>\n",
       "    </tr>\n",
       "    <tr>\n",
       "      <th>4</th>\n",
       "      <td>http://flipkart.com/tripr-printed-men-round-ne...</td>\n",
       "      <td>4</td>\n",
       "      <td>Printed Men Round Neck Pink T-Shirt</td>\n",
       "      <td>3.8</td>\n",
       "      <td>15858</td>\n",
       "      <td>1238</td>\n",
       "      <td>perfect 🥰 💞 osm color  design but improvement ...</td>\n",
       "      <td>2.9271</td>\n",
       "      <td>0.014707</td>\n",
       "    </tr>\n",
       "  </tbody>\n",
       "</table>\n",
       "</div>"
      ],
      "text/plain": [
       "                                                 URL  id  \\\n",
       "0  http://flipkart.com/ftx-solid-men-round-neck-m...   0   \n",
       "1  http://flipkart.com/louis-philippe-sport-solid...   1   \n",
       "2  http://flipkart.com/eyebogler-striped-men-polo...   2   \n",
       "3  http://flipkart.com/eyebogler-color-block-men-...   3   \n",
       "4  http://flipkart.com/tripr-printed-men-round-ne...   4   \n",
       "\n",
       "                                                desc  stars  num_ratings  \\\n",
       "0  Pack of 4 Solid Men Round Neck Multicolor T-Shirt    4.2         1103   \n",
       "1             Solid Men Polo Neck Light Blue T-Shirt    4.1        14974   \n",
       "2  Striped Men Polo Neck White, Blue, Yellow T-Shirt    4.1        15561   \n",
       "3            Color Block Men Round Neck Grey T-Shirt    3.9        88178   \n",
       "4                Printed Men Round Neck Pink T-Shirt    3.8        15858   \n",
       "\n",
       "   num_reviews                                            reviews  \\\n",
       "0          147  product quantity is excellent nyc look this cl...   \n",
       "1         1286  the colour is just an awesome combination of m...   \n",
       "2         1650  good exactly same as in the catalog fabric sof...   \n",
       "3         7932  good product nice tshirt 👌 awsome shirtthanks ...   \n",
       "4         1238  perfect 🥰 💞 osm color  design but improvement ...   \n",
       "\n",
       "   vader_score  final_score  \n",
       "0       1.1968     0.000980  \n",
       "1       3.0547     0.015330  \n",
       "2       3.5025     0.018414  \n",
       "3       1.5916     0.072142  \n",
       "4       2.9271     0.014707  "
      ]
     },
     "execution_count": 11,
     "metadata": {},
     "output_type": "execute_result"
    }
   ],
   "source": [
    "data.head()\n"
   ]
  },
  {
   "cell_type": "code",
   "execution_count": 12,
   "id": "b425d8a5",
   "metadata": {},
   "outputs": [],
   "source": [
    "data.to_csv('tshirts_csv_final.csv')\n"
   ]
  },
  {
   "cell_type": "code",
   "execution_count": 13,
   "id": "c37b81c6",
   "metadata": {},
   "outputs": [],
   "source": [
    "Dict_pattern = {} \n",
    "Dict_neck={}\n",
    "Dict_colour={}\n",
    "item_pattern={}\n",
    "item_neck={}\n",
    "item_colour={}\n",
    "for ind in data.index:\n",
    "    men_index=0\n",
    "    neck_index=0\n",
    "    tshirt_index=0\n",
    "    d=data['desc'][ind]\n",
    "    d=d.lower()\n",
    "    arr=d.split()\n",
    "    men_index=arr.index(\"men\")\n",
    "    if \"neck\" in arr:\n",
    "        neck_index=arr.index(\"neck\")\n",
    "    elif \"v-neck\" in arr:\n",
    "        neck_index=arr.index(\"v-neck\")\n",
    "    elif \"collar\" in arr:\n",
    "        neck_index=arr.index(\"collar\")\n",
    "    elif \"crew\" in arr:\n",
    "        neck_index=arr.index(\"crew\")\n",
    "    tshirt_index=arr.index(\"t-shirt\")\n",
    "    pattern1=arr[0:men_index]\n",
    "    neck1=arr[men_index+1:neck_index+1]\n",
    "    colour1=arr[neck_index+1:tshirt_index+1]\n",
    "    pattern2=\" \".join(pattern1)\n",
    "    neck2=\" \".join(neck1)\n",
    "    colour2=\" \".join(colour1)\n",
    "    pattern2= re.sub(r'[^\\w\\s]', '', pattern2) \n",
    "    neck2= re.sub(r'[^\\w\\s]', '', neck2) \n",
    "    colour2= re.sub(r'[^\\w\\s]', '', colour2) \n",
    "    if pattern2 in Dict_pattern:\n",
    "        Dict_pattern[pattern2]=Dict_pattern[pattern2]+1\n",
    "        item_pattern[pattern2].append(ind)\n",
    "    else:\n",
    "        Dict_pattern[pattern2]=1\n",
    "        item_pattern[pattern2]=[]\n",
    "        item_pattern[pattern2].append(ind)\n",
    "        \n",
    "    if neck2 in Dict_neck:\n",
    "        Dict_neck[neck2]=Dict_neck[neck2]+1\n",
    "        item_neck[neck2].append(ind)\n",
    "    else:\n",
    "        Dict_neck[neck2]=1\n",
    "        item_neck[neck2]=[]\n",
    "        item_neck[neck2].append(ind)\n",
    "        \n",
    "    if colour2 in Dict_colour:\n",
    "        Dict_colour[colour2]=Dict_colour[colour2]+1\n",
    "        item_colour[colour2].append(ind)\n",
    "    else:\n",
    "        Dict_colour[colour2]=1\n",
    "        item_colour[colour2]=[]\n",
    "        item_colour[colour2].append(ind)"
   ]
  },
  {
   "cell_type": "code",
   "execution_count": 14,
   "id": "361093f4",
   "metadata": {},
   "outputs": [
    {
     "name": "stdout",
     "output_type": "stream",
     "text": [
      "solid 153\n",
      "printed 67\n",
      "striped 48\n",
      "color block 48\n",
      "pack of 3 solid 15\n",
      "pack of 4 solid 12\n",
      "pack of 2 solid 8\n",
      "typography 7\n",
      "graphic print 7\n",
      "pack of 2 striped 6\n",
      "self design 4\n",
      "pack of 2 color block 3\n",
      "pack of 2 self design 2\n",
      "pack of 3 striped 1\n",
      "military camouflage 1\n",
      "checkered 1\n",
      "ombre 1\n",
      "striped applique 1\n",
      "pack of 3 printed 1\n",
      "pack of 3 color block 1\n"
     ]
    }
   ],
   "source": [
    "print_sorted= sorted(Dict_pattern, key=Dict_pattern.get, reverse=True)\n",
    "for r in print_sorted:\n",
    "    print(r, Dict_pattern[r])"
   ]
  },
  {
   "cell_type": "code",
   "execution_count": 15,
   "id": "6453db04",
   "metadata": {},
   "outputs": [
    {
     "name": "stdout",
     "output_type": "stream",
     "text": [
      "[['solid', 1, 7, 10, 11, 12, 13, 16, 18, 19, 24, 31, 33, 35, 37, 39, 44, 45, 47, 48, 51, 52, 53, 55, 58, 59, 68, 78, 81, 83, 87, 90, 94, 95, 100, 104, 106, 107, 109, 121, 125, 126, 127, 128, 130, 131, 135, 136, 138, 139, 140, 144, 145, 146, 147, 150, 153, 154, 156, 157, 162, 165, 167, 172, 175, 176, 182, 183, 184, 185, 191, 192, 194, 199, 201, 202, 203, 205, 208, 209, 211, 212, 213, 217, 218, 220, 221, 223, 224, 225, 227, 228, 230, 231, 237, 238, 240, 241, 243, 244, 247, 250, 251, 253, 255, 256, 257, 262, 266, 267, 268, 275, 277, 278, 282, 284, 285, 289, 293, 296, 297, 300, 303, 304, 307, 308, 311, 314, 320, 324, 328, 329, 331, 332, 338, 339, 343, 344, 345, 346, 348, 350, 354, 359, 362, 364, 365, 370, 374, 375, 378, 379, 381, 382], ['printed', 4, 8, 14, 17, 36, 49, 69, 70, 80, 82, 84, 91, 96, 110, 114, 122, 134, 158, 160, 161, 166, 169, 186, 196, 198, 204, 207, 214, 219, 226, 229, 233, 235, 246, 249, 270, 274, 276, 279, 280, 283, 288, 290, 292, 294, 298, 302, 309, 310, 313, 317, 321, 325, 326, 334, 337, 351, 353, 358, 361, 363, 369, 377, 380, 384, 385, 386], ['striped', 2, 5, 6, 20, 21, 23, 26, 30, 32, 40, 42, 43, 46, 54, 73, 77, 93, 101, 108, 116, 120, 133, 141, 155, 159, 163, 171, 173, 174, 177, 189, 193, 195, 245, 252, 258, 272, 301, 306, 318, 323, 336, 341, 342, 347, 352, 368, 371], ['color block', 3, 9, 50, 56, 57, 61, 62, 64, 74, 76, 89, 92, 98, 103, 112, 113, 118, 124, 129, 132, 142, 143, 148, 151, 152, 164, 180, 187, 188, 190, 200, 210, 216, 234, 242, 259, 286, 287, 305, 315, 330, 333, 340, 349, 356, 357, 360, 367], ['pack of 3 solid', 25, 29, 67, 71, 72, 86, 97, 115, 137, 149, 168, 261, 299, 335, 376], ['checkered', 102], ['ombre', 181], ['striped applique', 206], ['pack of 3 printed', 222], ['pack of 3 color block', 319]]\n"
     ]
    }
   ],
   "source": [
    "row=print_sorted[0:5]+print_sorted[-5:]  \n",
    "import csv\n",
    "with open('print_top_bottom.csv', 'w', newline='') as file:\n",
    "    res = [] \n",
    "    for el in row: \n",
    "        sub = el.split(', ') \n",
    "        res.append(sub) \n",
    "\n",
    "    for i in range(len(res)):\n",
    "        res[i]=res[i]+item_pattern[res[i][0]]\n",
    "\n",
    "    print(res)\n",
    "    writer = csv.writer(file)\n",
    "    writer.writerows(res)\n"
   ]
  },
  {
   "cell_type": "code",
   "execution_count": 16,
   "id": "fdca7bbe",
   "metadata": {},
   "outputs": [
    {
     "name": "stdout",
     "output_type": "stream",
     "text": [
      "round neck 196\n",
      "polo neck 129\n",
      "hooded neck 29\n",
      "mandarin collar 17\n",
      "henley neck 4\n",
      "v neck 4\n",
      "collared neck 2\n",
      "round or crew 2\n",
      "crew neck 2\n",
      "high neck 1\n",
      "scoop neck 1\n"
     ]
    }
   ],
   "source": [
    "neck_sorted= sorted(Dict_neck, key=Dict_neck.get, reverse=True)\n",
    "for r in neck_sorted:\n",
    "    print(r, Dict_neck[r])"
   ]
  },
  {
   "cell_type": "code",
   "execution_count": 17,
   "id": "5c5d72bf",
   "metadata": {},
   "outputs": [
    {
     "name": "stdout",
     "output_type": "stream",
     "text": [
      "[['round neck', 0, 3, 4, 8, 14, 15, 17, 20, 21, 23, 24, 25, 27, 28, 29, 30, 32, 34, 37, 38, 41, 42, 47, 49, 50, 56, 58, 59, 60, 61, 63, 65, 66, 67, 68, 70, 71, 72, 73, 74, 75, 79, 80, 81, 84, 85, 86, 88, 89, 90, 91, 92, 93, 97, 98, 100, 105, 106, 107, 110, 111, 112, 113, 115, 117, 118, 119, 120, 122, 123, 124, 128, 129, 132, 137, 138, 143, 144, 147, 148, 149, 151, 154, 157, 158, 159, 160, 161, 163, 166, 168, 169, 170, 171, 174, 177, 178, 181, 184, 186, 189, 190, 191, 192, 196, 197, 198, 200, 203, 204, 215, 216, 222, 223, 228, 229, 230, 232, 233, 236, 239, 242, 246, 248, 249, 252, 254, 259, 260, 261, 263, 264, 268, 269, 270, 271, 272, 273, 274, 276, 279, 280, 281, 283, 288, 290, 291, 294, 295, 296, 299, 301, 302, 306, 307, 308, 309, 310, 312, 313, 316, 317, 318, 319, 321, 322, 326, 327, 329, 335, 336, 337, 341, 343, 348, 351, 353, 356, 358, 360, 361, 363, 366, 367, 368, 369, 372, 373, 374, 376, 377, 380, 381, 384, 385, 386], ['polo neck', 1, 2, 5, 6, 7, 10, 11, 16, 18, 19, 26, 33, 35, 39, 40, 43, 44, 45, 46, 48, 52, 53, 54, 55, 77, 78, 83, 87, 95, 99, 101, 102, 103, 104, 109, 114, 127, 130, 131, 133, 135, 136, 139, 140, 141, 146, 150, 152, 155, 156, 162, 164, 173, 175, 183, 187, 193, 194, 195, 199, 201, 202, 205, 206, 209, 213, 218, 220, 224, 225, 227, 231, 243, 244, 245, 247, 250, 251, 253, 255, 257, 258, 262, 266, 267, 275, 277, 278, 282, 284, 285, 286, 287, 289, 293, 298, 300, 303, 304, 305, 311, 314, 315, 320, 323, 324, 328, 332, 333, 334, 338, 339, 340, 344, 346, 349, 350, 352, 354, 355, 357, 362, 364, 365, 370, 371, 375, 378, 382], ['hooded neck', 9, 22, 36, 57, 62, 64, 69, 76, 82, 96, 121, 134, 142, 145, 179, 180, 188, 207, 210, 214, 219, 226, 234, 235, 292, 325, 330, 345, 347], ['mandarin collar', 12, 13, 31, 51, 125, 182, 185, 208, 212, 221, 237, 240, 241, 297, 331, 359, 379], ['henley neck', 94, 126, 165, 342], ['collared neck', 153, 167], ['round or crew', 176, 211], ['crew neck', 265, 383], ['high neck', 238], ['scoop neck', 256]]\n"
     ]
    }
   ],
   "source": [
    "row=neck_sorted[0:5]+neck_sorted[-5:]   \n",
    "import csv\n",
    "with open('neck_top_bottom.csv', 'w', newline='') as file:\n",
    "    res = [] \n",
    "    for el in row: \n",
    "        sub = el.split(', ') \n",
    "        res.append(sub) \n",
    "\n",
    "    for i in range(len(res)):\n",
    "        res[i]=res[i]+item_neck[res[i][0]]\n",
    "\n",
    "    print(res)\n",
    "    writer = csv.writer(file)\n",
    "    writer.writerows(res)"
   ]
  },
  {
   "cell_type": "code",
   "execution_count": 18,
   "id": "1d887de0",
   "metadata": {},
   "outputs": [
    {
     "name": "stdout",
     "output_type": "stream",
     "text": [
      "black tshirt 52\n",
      "multicolor tshirt 40\n",
      "blue tshirt 30\n",
      "green tshirt 30\n",
      "white tshirt 22\n",
      "yellow tshirt 19\n",
      "dark blue tshirt 19\n",
      "red tshirt 18\n",
      "grey tshirt 13\n",
      "brown tshirt 11\n",
      "maroon tshirt 10\n",
      "dark green tshirt 10\n",
      "light blue tshirt 9\n",
      "pink tshirt 7\n",
      "orange tshirt 7\n",
      "black white tshirt 5\n",
      "black dark blue blue tshirt 4\n",
      "white black tshirt 4\n",
      "black grey tshirt 4\n",
      "black yellow tshirt 3\n",
      "black red tshirt 3\n",
      "maroon black tshirt 3\n",
      "red black tshirt 2\n",
      "grey black tshirt 2\n",
      "maroon grey tshirt 2\n",
      "red white tshirt 2\n",
      "pink black tshirt 2\n",
      "green black tshirt 2\n",
      "black dark blue grey tshirt 2\n",
      "light green tshirt 2\n",
      "white blue grey tshirt 2\n",
      "white orange tshirt 2\n",
      "beige tshirt 2\n",
      "light blue red dark blue tshirt 2\n",
      "black green white tshirt 2\n",
      "white blue yellow tshirt 1\n",
      "brown black tshirt 1\n",
      "yellow black tshirt 1\n",
      "dark blue white brown tshirt 1\n",
      "white black pink tshirt 1\n",
      "light blue white tshirt 1\n",
      "dark blue black tshirt 1\n",
      "white blue tshirt 1\n",
      "black dark blue silver tshirt 1\n",
      "yellow blue tshirt 1\n",
      "light green black tshirt 1\n",
      "black blue tshirt 1\n",
      "light blue dark blue silver tshirt 1\n",
      "green white tshirt 1\n",
      "white black yellow tshirt 1\n",
      "red dark blue blue tshirt 1\n",
      "dark blue black yellow tshirt 1\n",
      "maroon white tshirt 1\n",
      "white blue blue tshirt 1\n",
      "reversible blue tshirt 1\n",
      "blue pink tshirt 1\n",
      "blue grey orange tshirt 1\n",
      "blue white red tshirt 1\n",
      "white pink tshirt 1\n",
      "dark green black tshirt 1\n",
      "dark green white yellow tshirt 1\n",
      "blue grey tshirt 1\n",
      "light blue pink tshirt 1\n",
      "pink white navy blue tshirt 1\n",
      "blue green tshirt 1\n",
      "dark blue maroon tshirt 1\n",
      "dark blue grey tshirt 1\n",
      "black green maroon tshirt 1\n",
      "red white black tshirt 1\n",
      "maroon beige tshirt 1\n",
      "grey blue tshirt 1\n",
      "blue black tshirt 1\n",
      "navy blue tshirt 1\n"
     ]
    }
   ],
   "source": [
    "colour_sorted= sorted(Dict_colour, key=Dict_colour.get, reverse=True)\n",
    "for r in colour_sorted:\n",
    "    print(r, Dict_colour[r])"
   ]
  },
  {
   "cell_type": "code",
   "execution_count": 19,
   "id": "55f249fe",
   "metadata": {},
   "outputs": [
    {
     "name": "stdout",
     "output_type": "stream",
     "text": [
      "[['black tshirt', 14, 15, 18, 36, 37, 49, 52, 54, 56, 58, 60, 69, 88, 96, 108, 110, 120, 121, 126, 134, 140, 167, 169, 172, 184, 186, 188, 190, 191, 203, 211, 219, 226, 230, 231, 238, 245, 246, 249, 256, 259, 260, 263, 269, 274, 330, 344, 356, 361, 375, 380, 381], ['multicolor tshirt', 0, 6, 25, 34, 35, 38, 41, 67, 75, 79, 103, 105, 114, 119, 123, 124, 145, 164, 197, 199, 222, 227, 234, 236, 239, 244, 261, 273, 281, 286, 305, 312, 315, 316, 323, 340, 364, 374, 376, 377], ['blue tshirt', 5, 16, 23, 32, 42, 53, 78, 80, 101, 116, 133, 146, 153, 174, 178, 193, 195, 214, 220, 262, 270, 275, 288, 290, 300, 317, 321, 339, 348, 350], ['green tshirt', 10, 45, 47, 64, 91, 95, 99, 102, 104, 109, 130, 135, 138, 152, 175, 180, 204, 209, 212, 229, 250, 251, 252, 289, 302, 328, 337, 351, 362, 378], ['white tshirt', 100, 112, 147, 156, 157, 161, 198, 218, 235, 237, 254, 265, 294, 303, 306, 326, 338, 341, 363, 365, 369, 382], ['red white black tshirt', 347], ['maroon beige tshirt', 360], ['grey blue tshirt', 366], ['blue black tshirt', 373], ['navy blue tshirt', 383]]\n"
     ]
    }
   ],
   "source": [
    "row=colour_sorted[0:5]+colour_sorted[-5:]\n",
    "with open('colour_top_bottom.csv', 'w', newline='') as file:\n",
    "    res = [] \n",
    "    for el in row: \n",
    "        sub = el.split(', ') \n",
    "        res.append(sub) \n",
    "\n",
    "    for i in range(len(res)):\n",
    "        res[i]=res[i]+item_colour[res[i][0]]\n",
    "\n",
    "    print(res)\n",
    "    writer = csv.writer(file)\n",
    "    writer.writerows(res)"
   ]
  }
 ],
 "metadata": {
  "kernelspec": {
   "display_name": "Python 3 (ipykernel)",
   "language": "python",
   "name": "python3"
  },
  "language_info": {
   "codemirror_mode": {
    "name": "ipython",
    "version": 3
   },
   "file_extension": ".py",
   "mimetype": "text/x-python",
   "name": "python",
   "nbconvert_exporter": "python",
   "pygments_lexer": "ipython3",
   "version": "3.9.5"
  }
 },
 "nbformat": 4,
 "nbformat_minor": 5
}
