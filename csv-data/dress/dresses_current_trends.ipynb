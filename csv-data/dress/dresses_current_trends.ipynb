{
 "cells": [
  {
   "cell_type": "code",
   "execution_count": 1,
   "metadata": {},
   "outputs": [],
   "source": [
    "import pandas as pd\n",
    "from vaderSentiment.vaderSentiment import SentimentIntensityAnalyzer\n",
    "import nltk\n",
    "from nltk.corpus import stopwords \n",
    "import re\n",
    "analyser = SentimentIntensityAnalyzer()"
   ]
  },
  {
   "cell_type": "code",
   "execution_count": 2,
   "metadata": {},
   "outputs": [],
   "source": [
    "data=pd.read_csv(\"dress-flipkart-final-final.csv\")\n",
    "data.head()\n",
    "data=data[['URL','ID','ITEM','STARS','NUMBER OF RATINGS','NUMBER OF REVIEWS', 'LIST OF REVIEWS']]"
   ]
  },
  {
   "cell_type": "code",
   "execution_count": 3,
   "metadata": {},
   "outputs": [
    {
     "data": {
      "text/html": [
       "<div>\n",
       "<style scoped>\n",
       "    .dataframe tbody tr th:only-of-type {\n",
       "        vertical-align: middle;\n",
       "    }\n",
       "\n",
       "    .dataframe tbody tr th {\n",
       "        vertical-align: top;\n",
       "    }\n",
       "\n",
       "    .dataframe thead th {\n",
       "        text-align: right;\n",
       "    }\n",
       "</style>\n",
       "<table border=\"1\" class=\"dataframe\">\n",
       "  <thead>\n",
       "    <tr style=\"text-align: right;\">\n",
       "      <th></th>\n",
       "      <th>URL</th>\n",
       "      <th>id</th>\n",
       "      <th>desc</th>\n",
       "      <th>stars</th>\n",
       "      <th>num_ratings</th>\n",
       "      <th>num_reviews</th>\n",
       "      <th>reviews</th>\n",
       "    </tr>\n",
       "  </thead>\n",
       "  <tbody>\n",
       "    <tr>\n",
       "      <th>0</th>\n",
       "      <td>http://flipkart.com/kalawatis-women-fit-flare-...</td>\n",
       "      <td>0</td>\n",
       "      <td>Women Fit and Flare White Dress</td>\n",
       "      <td>4.0</td>\n",
       "      <td>4</td>\n",
       "      <td>0</td>\n",
       "      <td>[]</td>\n",
       "    </tr>\n",
       "    <tr>\n",
       "      <th>1</th>\n",
       "      <td>http://flipkart.com/iqraar-women-fit-flare-pur...</td>\n",
       "      <td>1</td>\n",
       "      <td>Women Fit and Flare Purple Dress</td>\n",
       "      <td>4.3</td>\n",
       "      <td>20596</td>\n",
       "      <td>2761</td>\n",
       "      <td>['It was an awesome dress . I loved it', 'Very...</td>\n",
       "    </tr>\n",
       "    <tr>\n",
       "      <th>2</th>\n",
       "      <td>http://flipkart.com/aayu-women-fit-flare-multi...</td>\n",
       "      <td>2</td>\n",
       "      <td>Women Fit and Flare Multicolor Dress</td>\n",
       "      <td>4.0</td>\n",
       "      <td>106335</td>\n",
       "      <td>15304</td>\n",
       "      <td>['So comfortable dress in  pregnancy time....'...</td>\n",
       "    </tr>\n",
       "    <tr>\n",
       "      <th>3</th>\n",
       "      <td>http://flipkart.com/sheetal-associates-women-w...</td>\n",
       "      <td>3</td>\n",
       "      <td>Women Wrap Pink Dress</td>\n",
       "      <td>4.2</td>\n",
       "      <td>9636</td>\n",
       "      <td>1124</td>\n",
       "      <td>[\"It's absolutely stunning 🥰\", 'This dress is ...</td>\n",
       "    </tr>\n",
       "    <tr>\n",
       "      <th>4</th>\n",
       "      <td>http://flipkart.com/purshottam-wala-women-maxi...</td>\n",
       "      <td>4</td>\n",
       "      <td>Women Maxi Black Dress</td>\n",
       "      <td>4.2</td>\n",
       "      <td>12918</td>\n",
       "      <td>1512</td>\n",
       "      <td>['Awsm n comfortable', '🌝👌🏻 beautiful', \"I'm r...</td>\n",
       "    </tr>\n",
       "  </tbody>\n",
       "</table>\n",
       "</div>"
      ],
      "text/plain": [
       "                                                 URL  id  \\\n",
       "0  http://flipkart.com/kalawatis-women-fit-flare-...   0   \n",
       "1  http://flipkart.com/iqraar-women-fit-flare-pur...   1   \n",
       "2  http://flipkart.com/aayu-women-fit-flare-multi...   2   \n",
       "3  http://flipkart.com/sheetal-associates-women-w...   3   \n",
       "4  http://flipkart.com/purshottam-wala-women-maxi...   4   \n",
       "\n",
       "                                   desc  stars  num_ratings  num_reviews  \\\n",
       "0       Women Fit and Flare White Dress    4.0            4            0   \n",
       "1      Women Fit and Flare Purple Dress    4.3        20596         2761   \n",
       "2  Women Fit and Flare Multicolor Dress    4.0       106335        15304   \n",
       "3                 Women Wrap Pink Dress    4.2         9636         1124   \n",
       "4                Women Maxi Black Dress    4.2        12918         1512   \n",
       "\n",
       "                                             reviews  \n",
       "0                                                 []  \n",
       "1  ['It was an awesome dress . I loved it', 'Very...  \n",
       "2  ['So comfortable dress in  pregnancy time....'...  \n",
       "3  [\"It's absolutely stunning 🥰\", 'This dress is ...  \n",
       "4  ['Awsm n comfortable', '🌝👌🏻 beautiful', \"I'm r...  "
      ]
     },
     "execution_count": 3,
     "metadata": {},
     "output_type": "execute_result"
    }
   ],
   "source": [
    "data.rename(columns = {'ID':'id','ITEM':'desc', 'LIST OF REVIEWS':'reviews','NUMBER OF REVIEWS':'num_reviews','STARS':'stars','NUMBER OF RATINGS':'num_ratings'}, inplace=True)\n",
    "data.head()"
   ]
  },
  {
   "cell_type": "code",
   "execution_count": 4,
   "metadata": {},
   "outputs": [
    {
     "name": "stderr",
     "output_type": "stream",
     "text": [
      "C:\\Users\\ARNAVJ~1\\AppData\\Local\\Temp/ipykernel_21824/2430931611.py:2: FutureWarning: The default value of regex will change from True to False in a future version.\n",
      "  data.reviews = data.reviews.str.replace('\\n','').str.replace('[\\'!\"#$%&\\()*+,-./:;<=>?@[\\\\]^_`{|}~]','')\n"
     ]
    }
   ],
   "source": [
    "data.reviews = data.reviews.str.lower()\n",
    "data.reviews = data.reviews.str.replace('\\n','').str.replace('[\\'!\"#$%&\\()*+,-./:;<=>?@[\\\\]^_`{|}~]','')"
   ]
  },
  {
   "cell_type": "code",
   "execution_count": 5,
   "metadata": {},
   "outputs": [
    {
     "name": "stderr",
     "output_type": "stream",
     "text": [
      "C:\\Users\\ARNAVJ~1\\AppData\\Local\\Temp/ipykernel_21824/2037979432.py:10: SettingWithCopyWarning: \n",
      "A value is trying to be set on a copy of a slice from a DataFrame\n",
      "\n",
      "See the caveats in the documentation: https://pandas.pydata.org/pandas-docs/stable/user_guide/indexing.html#returning-a-view-versus-a-copy\n",
      "  data['vader_score'][ind] =sum_score\n"
     ]
    }
   ],
   "source": [
    "data['vader_score'] = 1.0\n",
    "for ind in data.index: \n",
    "    rev=data['reviews'][ind]\n",
    "    x = rev.split()\n",
    "#     print(x)\n",
    "    sum_score=0.0\n",
    "    for i in x:\n",
    "        score = analyser.polarity_scores(i)\n",
    "        sum_score=sum_score+score['compound']\n",
    "    data['vader_score'][ind] =sum_score"
   ]
  },
  {
   "cell_type": "code",
   "execution_count": 6,
   "metadata": {},
   "outputs": [],
   "source": [
    "total_star_givers = data['num_ratings'].sum()     \n",
    "total_review_givers = data['num_reviews'].sum()\n",
    "# print(total_star_givers)\n",
    "# print(total_review_givers)"
   ]
  },
  {
   "cell_type": "code",
   "execution_count": 7,
   "metadata": {},
   "outputs": [],
   "source": [
    "data['final_score'] = ((data['stars']*data['num_ratings'])/total_star_givers)+((data['vader_score']*data['num_reviews'])/total_review_givers)"
   ]
  },
  {
   "cell_type": "code",
   "execution_count": 8,
   "metadata": {},
   "outputs": [
    {
     "data": {
      "text/html": [
       "<div>\n",
       "<style scoped>\n",
       "    .dataframe tbody tr th:only-of-type {\n",
       "        vertical-align: middle;\n",
       "    }\n",
       "\n",
       "    .dataframe tbody tr th {\n",
       "        vertical-align: top;\n",
       "    }\n",
       "\n",
       "    .dataframe thead th {\n",
       "        text-align: right;\n",
       "    }\n",
       "</style>\n",
       "<table border=\"1\" class=\"dataframe\">\n",
       "  <thead>\n",
       "    <tr style=\"text-align: right;\">\n",
       "      <th></th>\n",
       "      <th>URL</th>\n",
       "      <th>id</th>\n",
       "      <th>desc</th>\n",
       "      <th>stars</th>\n",
       "      <th>num_ratings</th>\n",
       "      <th>num_reviews</th>\n",
       "      <th>reviews</th>\n",
       "      <th>vader_score</th>\n",
       "      <th>final_score</th>\n",
       "    </tr>\n",
       "  </thead>\n",
       "  <tbody>\n",
       "    <tr>\n",
       "      <th>0</th>\n",
       "      <td>http://flipkart.com/kalawatis-women-fit-flare-...</td>\n",
       "      <td>0</td>\n",
       "      <td>Women Fit and Flare White Dress</td>\n",
       "      <td>4.0</td>\n",
       "      <td>4</td>\n",
       "      <td>0</td>\n",
       "      <td></td>\n",
       "      <td>0.0000</td>\n",
       "      <td>0.000007</td>\n",
       "    </tr>\n",
       "    <tr>\n",
       "      <th>1</th>\n",
       "      <td>http://flipkart.com/iqraar-women-fit-flare-pur...</td>\n",
       "      <td>1</td>\n",
       "      <td>Women Fit and Flare Purple Dress</td>\n",
       "      <td>4.3</td>\n",
       "      <td>20596</td>\n",
       "      <td>2761</td>\n",
       "      <td>it was an awesome dress  i loved it very nice ...</td>\n",
       "      <td>3.4872</td>\n",
       "      <td>0.064224</td>\n",
       "    </tr>\n",
       "    <tr>\n",
       "      <th>2</th>\n",
       "      <td>http://flipkart.com/aayu-women-fit-flare-multi...</td>\n",
       "      <td>2</td>\n",
       "      <td>Women Fit and Flare Multicolor Dress</td>\n",
       "      <td>4.0</td>\n",
       "      <td>106335</td>\n",
       "      <td>15304</td>\n",
       "      <td>so comfortable dress in  pregnancy time very d...</td>\n",
       "      <td>1.8009</td>\n",
       "      <td>0.253933</td>\n",
       "    </tr>\n",
       "    <tr>\n",
       "      <th>3</th>\n",
       "      <td>http://flipkart.com/sheetal-associates-women-w...</td>\n",
       "      <td>3</td>\n",
       "      <td>Women Wrap Pink Dress</td>\n",
       "      <td>4.2</td>\n",
       "      <td>9636</td>\n",
       "      <td>1124</td>\n",
       "      <td>its absolutely stunning 🥰 this dress is amezin...</td>\n",
       "      <td>2.3018</td>\n",
       "      <td>0.024059</td>\n",
       "    </tr>\n",
       "    <tr>\n",
       "      <th>4</th>\n",
       "      <td>http://flipkart.com/purshottam-wala-women-maxi...</td>\n",
       "      <td>4</td>\n",
       "      <td>Women Maxi Black Dress</td>\n",
       "      <td>4.2</td>\n",
       "      <td>12918</td>\n",
       "      <td>1512</td>\n",
       "      <td>awsm n comfortable 🌝👌🏻 beautiful im really sat...</td>\n",
       "      <td>2.5633</td>\n",
       "      <td>0.033442</td>\n",
       "    </tr>\n",
       "  </tbody>\n",
       "</table>\n",
       "</div>"
      ],
      "text/plain": [
       "                                                 URL  id  \\\n",
       "0  http://flipkart.com/kalawatis-women-fit-flare-...   0   \n",
       "1  http://flipkart.com/iqraar-women-fit-flare-pur...   1   \n",
       "2  http://flipkart.com/aayu-women-fit-flare-multi...   2   \n",
       "3  http://flipkart.com/sheetal-associates-women-w...   3   \n",
       "4  http://flipkart.com/purshottam-wala-women-maxi...   4   \n",
       "\n",
       "                                   desc  stars  num_ratings  num_reviews  \\\n",
       "0       Women Fit and Flare White Dress    4.0            4            0   \n",
       "1      Women Fit and Flare Purple Dress    4.3        20596         2761   \n",
       "2  Women Fit and Flare Multicolor Dress    4.0       106335        15304   \n",
       "3                 Women Wrap Pink Dress    4.2         9636         1124   \n",
       "4                Women Maxi Black Dress    4.2        12918         1512   \n",
       "\n",
       "                                             reviews  vader_score  final_score  \n",
       "0                                                          0.0000     0.000007  \n",
       "1  it was an awesome dress  i loved it very nice ...       3.4872     0.064224  \n",
       "2  so comfortable dress in  pregnancy time very d...       1.8009     0.253933  \n",
       "3  its absolutely stunning 🥰 this dress is amezin...       2.3018     0.024059  \n",
       "4  awsm n comfortable 🌝👌🏻 beautiful im really sat...       2.5633     0.033442  "
      ]
     },
     "execution_count": 8,
     "metadata": {},
     "output_type": "execute_result"
    }
   ],
   "source": [
    "data.head()"
   ]
  },
  {
   "cell_type": "code",
   "execution_count": 9,
   "metadata": {},
   "outputs": [],
   "source": [
    "data.to_csv('dresses_csv_final.csv')"
   ]
  },
  {
   "cell_type": "code",
   "execution_count": 18,
   "metadata": {},
   "outputs": [
    {
     "name": "stdout",
     "output_type": "stream",
     "text": [
      "{'Fit Flare': [0, 1, 2, 11, 12, 20, 25, 26, 27, 30, 32, 35, 37, 46, 49, 54, 55, 66, 69, 74, 76, 86, 91, 101, 105, 110, 111, 113, 130, 133, 135, 137, 146, 147, 148, 150, 157, 160, 165, 168, 174, 177, 183, 186, 209, 216, 219, 223, 224, 238, 250, 261, 263, 264, 265, 267, 276, 281, 284, 292, 293, 297, 300, 302, 312, 313, 314, 323, 331, 333, 338, 342, 343, 363, 364], 'Flare White': [0, 148, 150], 'Flare Purple': [1, 37, 74, 110, 157, 160, 186, 223, 238, 261, 297, 312, 338], 'Flare Multicolor': [2, 12, 32, 66, 69, 86, 91, 147, 165, 267, 292, 300, 333], 'Wrap Pink': [3, 163, 171], 'Maxi Black': [4, 29, 65, 204, 205, 225, 254, 291, 305], 'Ethnic Dress': [5, 200, 229, 232], 'Dress Green': [5], 'Bodycon Black': [6, 18, 47, 52, 57, 62, 103, 106, 116, 136, 176, 178, 202, 207, 217, 220, 228, 249, 256, 258, 278, 286, 322, 329, 348, 359], 'Bodycon Pink': [7, 98, 108, 152, 170, 222, 235, 340], 'Sheath Purple': [8], 'Sheath Beige': [9], 'Skater Multicolor': [10, 151, 156, 327, 334], 'Flare Green': [11, 101, 111, 130, 276, 331], 'Green Dress': [11, 125], 'Dress With': [11, 22, 35, 40, 54, 68, 125, 267, 333], 'Sheath Black': [13, 15, 42, 61, 85, 121, 167, 193, 234, 268, 308, 345], 'Skater Black': [14, 346], 'Maxi Maroon': [16, 43, 119, 277, 328], 'Maxi Pink': [17, 28, 68, 161, 212, 294, 361], 'Bodycon Green': [19, 24, 50, 75, 99, 132, 142, 182, 201, 203, 245, 269, 282, 318, 355], 'Flare Black': [20, 27, 49, 105, 113, 135, 146, 177, 183, 363], 'Pleated Purple': [21], 'Maxi Yellow': [22, 266, 301, 351, 353], 'Yellow Dress': [22, 54], 'Bodycon Purple': [23, 34, 60, 144, 211, 257, 326], 'Flare Yellow': [25, 54, 133, 250, 265], 'Flare Blue': [26, 76, 168, 209, 219, 293, 313, 323, 342, 343], 'Flare Pink': [30, 35, 55, 174, 216, 264, 364], 'Bodycon Maroon': [31, 124, 139, 164, 169, 206, 237, 330], 'Aline White': [33, 120, 190, 227, 321], 'White Black': [33], 'Pink Dress': [35, 68], 'Aline Brown': [36, 248, 279], 'High Low': [38, 59, 64, 143, 303, 316], 'Low White': [38], 'Aline Black': [39, 84, 118, 123, 154, 251, 260, 262, 271, 309, 357, 365], 'Black Brown': [39], 'Maxi Multicolor': [40, 44, 129, 173, 181, 195, 243, 332], 'Multicolor Dress': [40, 267, 333], 'Layered Black': [41, 81, 117, 230, 304], 'Bodycon Blue': [45, 53, 78, 92, 94, 149, 275], 'Flare Light': [46, 281, 284], 'Light Blue': [46, 259, 283, 284, 358], 'Tiered Red': [48], 'Aline Multicolor': [51, 196, 214, 295, 339], 'Gown Brown': [56, 107, 140, 226, 253, 290], 'Maxi White': [58, 104, 112, 180, 191], 'White Maroon': [58], 'Maroon Black': [58], 'Low Multicolor': [59], 'Sheath Red': [63], 'Low Black': [64], 'Sheath Dark': [67, 189], 'Dark Blue': [67, 88, 97, 189, 247, 288, 314, 324, 337, 354, 360], 'T Shirt': [70, 215, 366], 'Shirt Grey': [70, 215, 366], 'Cinched Waist': [71], 'Waist Multicolor': [71, 252, 285], 'Aline Green': [72, 194], 'Sheath Blue': [73], 'Bodycon Brown': [77, 80, 231, 319], 'Gathered Maroon': [79, 102, 115], 'Aline Blue': [82, 87, 213, 221, 239, 287, 289, 356, 362], 'Gathered Green': [83], 'Bodycon Dark': [88], 'Maxi Purple': [89], 'Aline Orange': [90], 'Bodycon Multicolor': [93], 'Aline Pink': [95, 273, 299, 325], 'Aline Grey': [96], 'Maxi Dark': [97, 125, 247, 337], 'Aline Purple': [100, 109, 134, 159], 'White Beige': [104, 112], 'Pleated Yellow': [114], 'Maroon White': [119, 256], 'Maxi Green': [122, 158, 162, 185, 240], 'Dark Green': [125], 'Wrap Black': [126, 131, 242, 244], 'Coords Blue': [127], 'Layered Brown': [128, 241], 'Yellow Black': [133], 'Flare Grey': [137], 'Aline Yellow': [138, 166, 233, 344], 'Shirt Black': [141], 'Black Beige': [141], 'Low Yellow': [143], 'Yellow White': [143], 'Gown Blue': [145, 175, 218], 'Bodycon Red': [153, 335], 'Red Black': [153], 'Drop Waist': [155], 'Waist Black': [155], 'Maxi Blue': [172, 236], 'Pink White': [174, 306], 'White Purple': [174], 'Bodycon Light': [179, 259], 'Light Green': [179, 184, 281], 'White Pink': [180], 'Sheath Light': [184], 'Pleated Black': [187, 350], 'Shift Black': [188], 'Shift Blue': [192], 'Wrap Green': [197], 'Coords Green': [198], 'Green Blue': [198], 'Blue White': [198, 288], 'Gathered Black': [199], 'Dress Multicolor': [200], 'Sheath White': [208], 'White Multicolor': [208], 'Shift Maroon': [210], 'Flare Orange': [224], 'Dress Blue': [229, 232], 'Tiered Blue': [246], 'Empire Waist': [252, 285], 'Shirt Green': [255, 270], 'Black Maroon': [256], 'Flare Red': [263], 'Black White': [271, 305], 'Skater Pink': [272, 306], 'Pleated Silver': [274], 'Brown Orange': [279], 'Sheath Green': [280], 'Shirt Light': [283, 358], 'Aline Dark': [288], 'Blue Red': [293], 'Wrap Maroon': [296], 'Sheath Orange': [298], 'Flare Maroon': [302], 'Low Maroon': [303], 'Shirt Pink': [307], 'Aline Maroon': [310, 320], 'Maxi Red': [311], 'Red Green': [311], 'Flare Dark': [314], 'Pinafore White': [315], 'Low Blue': [316], 'Bandage Blue': [317], 'Pleated Dark': [324], 'Aline Red': [336], 'Shift Green': [341], 'Shirt Blue': [347], 'Skater Red': [349], 'Sheath Maroon': [352], 'Pinafore Dark': [354], 'Gathered Dark': [360]}\n"
     ]
    },
    {
     "name": "stderr",
     "output_type": "stream",
     "text": [
      "[nltk_data] Downloading package stopwords to C:\\Users\\arnav\n",
      "[nltk_data]     jain\\AppData\\Roaming\\nltk_data...\n",
      "[nltk_data]   Package stopwords is already up-to-date!\n"
     ]
    }
   ],
   "source": [
    "dict_bigram={}\n",
    "item_bigram={}\n",
    "nltk.download('stopwords')\n",
    "\n",
    "stop_words = set(stopwords.words('english')) \n",
    "for ind in data.index:\n",
    "    d=data['desc'][ind][6:-5]\n",
    "    d= re.sub(r'[^\\w\\s]', '', d) \n",
    "    nltk_tokens = nltk.word_tokenize(d)\n",
    "    nltk_tokens = [w for w in nltk_tokens if not w in stop_words] \n",
    "    arr=list(nltk.bigrams(nltk_tokens))\n",
    "    for i in arr:\n",
    "        if i in dict_bigram:\n",
    "            dict_bigram[i]=dict_bigram[i]+1\n",
    "            item_bigram[\" \".join(i)].append(ind)\n",
    "        else:\n",
    "            dict_bigram[i]=1\n",
    "            item_bigram[\" \".join(i)]=[]\n",
    "            item_bigram[\" \".join(i)].append(ind)\n",
    "print(item_bigram) "
   ]
  },
  {
   "cell_type": "code",
   "execution_count": 19,
   "metadata": {},
   "outputs": [
    {
     "name": "stdout",
     "output_type": "stream",
     "text": [
      "[('Fit', 'Flare'), ('Bodycon', 'Black'), ('Bodycon', 'Green'), ('Flare', 'Purple'), ('Flare', 'Multicolor'), ('Sheath', 'Black'), ('Aline', 'Black'), ('Dark', 'Blue'), ('Flare', 'Black'), ('Flare', 'Blue'), ('Maxi', 'Black'), ('Dress', 'With'), ('Aline', 'Blue'), ('Bodycon', 'Pink'), ('Bodycon', 'Maroon'), ('Maxi', 'Multicolor'), ('Maxi', 'Pink'), ('Bodycon', 'Purple'), ('Flare', 'Pink'), ('Bodycon', 'Blue'), ('Flare', 'Green'), ('High', 'Low'), ('Gown', 'Brown'), ('Skater', 'Multicolor'), ('Maxi', 'Maroon'), ('Maxi', 'Yellow'), ('Flare', 'Yellow'), ('Aline', 'White'), ('Layered', 'Black'), ('Light', 'Blue'), ('Aline', 'Multicolor'), ('Maxi', 'White'), ('Maxi', 'Green'), ('Ethnic', 'Dress'), ('Bodycon', 'Brown'), ('Aline', 'Pink'), ('Maxi', 'Dark'), ('Aline', 'Purple'), ('Wrap', 'Black'), ('Aline', 'Yellow'), ('Flare', 'White'), ('Wrap', 'Pink'), ('Aline', 'Brown'), ('Multicolor', 'Dress'), ('Flare', 'Light'), ('T', 'Shirt'), ('Shirt', 'Grey'), ('Waist', 'Multicolor'), ('Gathered', 'Maroon'), ('Gown', 'Blue'), ('Light', 'Green'), ('Green', 'Dress'), ('Skater', 'Black'), ('Yellow', 'Dress'), ('Pink', 'Dress'), ('Sheath', 'Dark'), ('Aline', 'Green'), ('White', 'Beige'), ('Maroon', 'White'), ('Layered', 'Brown'), ('Bodycon', 'Red'), ('Maxi', 'Blue'), ('Pink', 'White'), ('Bodycon', 'Light'), ('Pleated', 'Black'), ('Blue', 'White'), ('Dress', 'Blue'), ('Empire', 'Waist'), ('Shirt', 'Green'), ('Black', 'White'), ('Skater', 'Pink'), ('Shirt', 'Light'), ('Aline', 'Maroon'), ('Dress', 'Green'), ('Sheath', 'Purple'), ('Sheath', 'Beige'), ('Pleated', 'Purple'), ('White', 'Black'), ('Low', 'White'), ('Black', 'Brown'), ('Tiered', 'Red'), ('White', 'Maroon'), ('Maroon', 'Black'), ('Low', 'Multicolor'), ('Sheath', 'Red'), ('Low', 'Black'), ('Cinched', 'Waist'), ('Sheath', 'Blue'), ('Gathered', 'Green'), ('Bodycon', 'Dark'), ('Maxi', 'Purple'), ('Aline', 'Orange'), ('Bodycon', 'Multicolor'), ('Aline', 'Grey'), ('Pleated', 'Yellow'), ('Dark', 'Green'), ('Coords', 'Blue'), ('Yellow', 'Black'), ('Flare', 'Grey'), ('Shirt', 'Black'), ('Black', 'Beige'), ('Low', 'Yellow'), ('Yellow', 'White'), ('Red', 'Black'), ('Drop', 'Waist'), ('Waist', 'Black'), ('White', 'Purple'), ('White', 'Pink'), ('Sheath', 'Light'), ('Shift', 'Black'), ('Shift', 'Blue'), ('Wrap', 'Green'), ('Coords', 'Green'), ('Green', 'Blue'), ('Gathered', 'Black'), ('Dress', 'Multicolor'), ('Sheath', 'White'), ('White', 'Multicolor'), ('Shift', 'Maroon'), ('Flare', 'Orange'), ('Tiered', 'Blue'), ('Black', 'Maroon'), ('Flare', 'Red'), ('Pleated', 'Silver'), ('Brown', 'Orange'), ('Sheath', 'Green'), ('Aline', 'Dark'), ('Blue', 'Red'), ('Wrap', 'Maroon'), ('Sheath', 'Orange'), ('Flare', 'Maroon'), ('Low', 'Maroon'), ('Shirt', 'Pink'), ('Maxi', 'Red'), ('Red', 'Green'), ('Flare', 'Dark'), ('Pinafore', 'White'), ('Low', 'Blue'), ('Bandage', 'Blue'), ('Pleated', 'Dark'), ('Aline', 'Red'), ('Shift', 'Green'), ('Shirt', 'Blue'), ('Skater', 'Red'), ('Sheath', 'Maroon'), ('Pinafore', 'Dark'), ('Gathered', 'Dark')]\n"
     ]
    }
   ],
   "source": [
    "dict_bigram_sorted= sorted(dict_bigram, key=dict_bigram.get, reverse=True)\n",
    "print(dict_bigram_sorted)"
   ]
  },
  {
   "cell_type": "code",
   "execution_count": 20,
   "metadata": {},
   "outputs": [
    {
     "name": "stdout",
     "output_type": "stream",
     "text": [
      "[('Fit', 'Flare'), ('Bodycon', 'Black'), ('Bodycon', 'Green'), ('Flare', 'Purple'), ('Flare', 'Multicolor'), ('Shirt', 'Blue'), ('Skater', 'Red'), ('Sheath', 'Maroon'), ('Pinafore', 'Dark'), ('Gathered', 'Dark')]\n"
     ]
    }
   ],
   "source": [
    "row=dict_bigram_sorted[0:5]+dict_bigram_sorted[-5:]\n",
    "print(row)"
   ]
  },
  {
   "cell_type": "code",
   "execution_count": 21,
   "metadata": {},
   "outputs": [
    {
     "name": "stdout",
     "output_type": "stream",
     "text": [
      "[['Fit Flare'], ['Bodycon Black'], ['Bodycon Green'], ['Flare Purple'], ['Flare Multicolor'], ['Shirt Blue'], ['Skater Red'], ['Sheath Maroon'], ['Pinafore Dark'], ['Gathered Dark']]\n"
     ]
    }
   ],
   "source": [
    "res = [] \n",
    "for el in row: \n",
    "#         sub = el.split(', ')\n",
    "    sub=\" \".join(el)\n",
    "    res.append(list(sub.split(\"*\"))) \n",
    "print(res)"
   ]
  },
  {
   "cell_type": "code",
   "execution_count": 22,
   "metadata": {},
   "outputs": [
    {
     "name": "stdout",
     "output_type": "stream",
     "text": [
      "[['Fit Flare', 0, 1, 2, 11, 12, 20, 25, 26, 27, 30, 32, 35, 37, 46, 49, 54, 55, 66, 69, 74, 76, 86, 91, 101, 105, 110, 111, 113, 130, 133, 135, 137, 146, 147, 148, 150, 157, 160, 165, 168, 174, 177, 183, 186, 209, 216, 219, 223, 224, 238, 250, 261, 263, 264, 265, 267, 276, 281, 284, 292, 293, 297, 300, 302, 312, 313, 314, 323, 331, 333, 338, 342, 343, 363, 364], ['Bodycon Black', 6, 18, 47, 52, 57, 62, 103, 106, 116, 136, 176, 178, 202, 207, 217, 220, 228, 249, 256, 258, 278, 286, 322, 329, 348, 359], ['Bodycon Green', 19, 24, 50, 75, 99, 132, 142, 182, 201, 203, 245, 269, 282, 318, 355], ['Flare Purple', 1, 37, 74, 110, 157, 160, 186, 223, 238, 261, 297, 312, 338], ['Flare Multicolor', 2, 12, 32, 66, 69, 86, 91, 147, 165, 267, 292, 300, 333], ['Shirt Blue', 347], ['Skater Red', 349], ['Sheath Maroon', 352], ['Pinafore Dark', 354], ['Gathered Dark', 360]]\n"
     ]
    }
   ],
   "source": [
    "import csv\n",
    "with open('dress_top_bottom.csv', 'w', newline='') as file:\n",
    "    res = [] \n",
    "    for el in row: \n",
    "#         sub = el.split(', ')\n",
    "        sub=\" \".join(el)\n",
    "        res.append(list(sub.split(\"*\"))) \n",
    "\n",
    "    for i in range(len(res)):\n",
    "        res[i]=res[i]+item_bigram[res[i][0]]\n",
    "\n",
    "    print(res)\n",
    "    writer = csv.writer(file)\n",
    "    writer.writerows(res)"
   ]
  },
  {
   "cell_type": "code",
   "execution_count": null,
   "metadata": {},
   "outputs": [],
   "source": []
  }
 ],
 "metadata": {
  "kernelspec": {
   "display_name": "Python 3 (ipykernel)",
   "language": "python",
   "name": "python3"
  },
  "language_info": {
   "codemirror_mode": {
    "name": "ipython",
    "version": 3
   },
   "file_extension": ".py",
   "mimetype": "text/x-python",
   "name": "python",
   "nbconvert_exporter": "python",
   "pygments_lexer": "ipython3",
   "version": "3.9.5"
  }
 },
 "nbformat": 4,
 "nbformat_minor": 2
}
